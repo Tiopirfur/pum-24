{
 "cells": [
  {
   "cell_type": "markdown",
   "id": "ad10fe87c955413f",
   "metadata": {},
   "source": [
    "# Lab 6: Visualizing the training process of neural networks. Hyperparameter tuning.\n",
    "\n",
    "In this lab, you will learn how to use [wandb](https://wandb.ai/) to visualize the training process of neural networks. We are going to build and train a feed-forward neural network for recognizing handwritten digits of the MNIST dataset. The training process will be visualized in the wandb dashboard, which will allow us to monitor the loss and accuracy of the model in real-time.\n",
    "\n",
    "---\n",
    "\n",
    "\n",
    "\n",
    "Feel free to create an account at [wandb.ai](https://wandb.ai/) before starting this lab.\n",
    "\n",
    "### A simple example of how to use wandb in a typical training loop is shown below:\n",
    "\n",
    "```python\n",
    "import wandb\n",
    "\n",
    "wandb.login() # Log in to your wandb account\n",
    "\n",
    "# Start a new run\n",
    "\n",
    "some_config = {\n",
    "    'learning_rate': 0.01,\n",
    "    'layer_1_size': 128,\n",
    "    'layer_2_size': 64,\n",
    "    'batch_size': 32\n",
    "} # This is just an example of a configuration dictionary, you can put anything you want here\n",
    "\n",
    "wandb.init(project='mnist-classifier', config=some_config) # start a new run and log parameters\n",
    "\n",
    "# Here you would prepare your data, and initialize the model, optimizer, etc.\n",
    "\n",
    "# Training loop\n",
    "for epoch in range(100):\n",
    "    ...\n",
    "    wandb.log({'loss': loss, 'accuracy': accuracy})\n",
    "    # This will send the loss and accuracy to wandb and you can visualize it in the dashboard\n",
    "\n",
    "# End of the run\n",
    "wandb.finish()\n",
    "```\n",
    "\n",
    "The most important part is the `wandb.log()` function, which sends the data to the wandb dashboard. You can log any metric you want, not just loss and accuracy. The value passed to the function must be a dictionary.\n"
   ]
  },
  {
   "cell_type": "markdown",
   "id": "50c701a2dc778ba9",
   "metadata": {},
   "source": [
    "## Exercise 1: Prepare data for training a mnist classifier (2 points)\n",
    "\n",
    "Before you start training a neural network, you need to prepare the data. In this exercise, you will prepare the MNIST dataset of handwritten digits for training a classifier. You should:\n",
    "\n",
    "1. Load the MNIST dataset using from `data/mnist_train.csv` and `data/mnist_test.csv` files.\n",
    "2. Normalize the data to the range [0, 1].\n",
    "3. Encode the labels using one-hot encoding.\n",
    "4. Create a PyTorch `Dataset` object for the training and test sets.\n",
    "5. Create a PyTorch `DataLoader` object for the training and test sets."
   ]
  },
  {
   "cell_type": "code",
   "execution_count": 1,
   "id": "e73671250bc707ad",
   "metadata": {},
   "outputs": [
    {
     "data": {
      "text/html": [
       "<div>\n",
       "<style scoped>\n",
       "    .dataframe tbody tr th:only-of-type {\n",
       "        vertical-align: middle;\n",
       "    }\n",
       "\n",
       "    .dataframe tbody tr th {\n",
       "        vertical-align: top;\n",
       "    }\n",
       "\n",
       "    .dataframe thead th {\n",
       "        text-align: right;\n",
       "    }\n",
       "</style>\n",
       "<table border=\"1\" class=\"dataframe\">\n",
       "  <thead>\n",
       "    <tr style=\"text-align: right;\">\n",
       "      <th></th>\n",
       "      <th>0</th>\n",
       "      <th>1</th>\n",
       "      <th>2</th>\n",
       "      <th>3</th>\n",
       "      <th>4</th>\n",
       "      <th>5</th>\n",
       "      <th>6</th>\n",
       "      <th>7</th>\n",
       "      <th>8</th>\n",
       "      <th>9</th>\n",
       "    </tr>\n",
       "  </thead>\n",
       "  <tbody>\n",
       "    <tr>\n",
       "      <th>0</th>\n",
       "      <td>False</td>\n",
       "      <td>False</td>\n",
       "      <td>False</td>\n",
       "      <td>False</td>\n",
       "      <td>False</td>\n",
       "      <td>True</td>\n",
       "      <td>False</td>\n",
       "      <td>False</td>\n",
       "      <td>False</td>\n",
       "      <td>False</td>\n",
       "    </tr>\n",
       "    <tr>\n",
       "      <th>1</th>\n",
       "      <td>True</td>\n",
       "      <td>False</td>\n",
       "      <td>False</td>\n",
       "      <td>False</td>\n",
       "      <td>False</td>\n",
       "      <td>False</td>\n",
       "      <td>False</td>\n",
       "      <td>False</td>\n",
       "      <td>False</td>\n",
       "      <td>False</td>\n",
       "    </tr>\n",
       "    <tr>\n",
       "      <th>2</th>\n",
       "      <td>False</td>\n",
       "      <td>False</td>\n",
       "      <td>False</td>\n",
       "      <td>False</td>\n",
       "      <td>True</td>\n",
       "      <td>False</td>\n",
       "      <td>False</td>\n",
       "      <td>False</td>\n",
       "      <td>False</td>\n",
       "      <td>False</td>\n",
       "    </tr>\n",
       "    <tr>\n",
       "      <th>3</th>\n",
       "      <td>False</td>\n",
       "      <td>True</td>\n",
       "      <td>False</td>\n",
       "      <td>False</td>\n",
       "      <td>False</td>\n",
       "      <td>False</td>\n",
       "      <td>False</td>\n",
       "      <td>False</td>\n",
       "      <td>False</td>\n",
       "      <td>False</td>\n",
       "    </tr>\n",
       "    <tr>\n",
       "      <th>4</th>\n",
       "      <td>False</td>\n",
       "      <td>False</td>\n",
       "      <td>False</td>\n",
       "      <td>False</td>\n",
       "      <td>False</td>\n",
       "      <td>False</td>\n",
       "      <td>False</td>\n",
       "      <td>False</td>\n",
       "      <td>False</td>\n",
       "      <td>True</td>\n",
       "    </tr>\n",
       "    <tr>\n",
       "      <th>...</th>\n",
       "      <td>...</td>\n",
       "      <td>...</td>\n",
       "      <td>...</td>\n",
       "      <td>...</td>\n",
       "      <td>...</td>\n",
       "      <td>...</td>\n",
       "      <td>...</td>\n",
       "      <td>...</td>\n",
       "      <td>...</td>\n",
       "      <td>...</td>\n",
       "    </tr>\n",
       "    <tr>\n",
       "      <th>59995</th>\n",
       "      <td>False</td>\n",
       "      <td>False</td>\n",
       "      <td>False</td>\n",
       "      <td>False</td>\n",
       "      <td>False</td>\n",
       "      <td>False</td>\n",
       "      <td>False</td>\n",
       "      <td>False</td>\n",
       "      <td>True</td>\n",
       "      <td>False</td>\n",
       "    </tr>\n",
       "    <tr>\n",
       "      <th>59996</th>\n",
       "      <td>False</td>\n",
       "      <td>False</td>\n",
       "      <td>False</td>\n",
       "      <td>True</td>\n",
       "      <td>False</td>\n",
       "      <td>False</td>\n",
       "      <td>False</td>\n",
       "      <td>False</td>\n",
       "      <td>False</td>\n",
       "      <td>False</td>\n",
       "    </tr>\n",
       "    <tr>\n",
       "      <th>59997</th>\n",
       "      <td>False</td>\n",
       "      <td>False</td>\n",
       "      <td>False</td>\n",
       "      <td>False</td>\n",
       "      <td>False</td>\n",
       "      <td>True</td>\n",
       "      <td>False</td>\n",
       "      <td>False</td>\n",
       "      <td>False</td>\n",
       "      <td>False</td>\n",
       "    </tr>\n",
       "    <tr>\n",
       "      <th>59998</th>\n",
       "      <td>False</td>\n",
       "      <td>False</td>\n",
       "      <td>False</td>\n",
       "      <td>False</td>\n",
       "      <td>False</td>\n",
       "      <td>False</td>\n",
       "      <td>True</td>\n",
       "      <td>False</td>\n",
       "      <td>False</td>\n",
       "      <td>False</td>\n",
       "    </tr>\n",
       "    <tr>\n",
       "      <th>59999</th>\n",
       "      <td>False</td>\n",
       "      <td>False</td>\n",
       "      <td>False</td>\n",
       "      <td>False</td>\n",
       "      <td>False</td>\n",
       "      <td>False</td>\n",
       "      <td>False</td>\n",
       "      <td>False</td>\n",
       "      <td>True</td>\n",
       "      <td>False</td>\n",
       "    </tr>\n",
       "  </tbody>\n",
       "</table>\n",
       "<p>60000 rows × 10 columns</p>\n",
       "</div>"
      ],
      "text/plain": [
       "           0      1      2      3      4      5      6      7      8      9\n",
       "0      False  False  False  False  False   True  False  False  False  False\n",
       "1       True  False  False  False  False  False  False  False  False  False\n",
       "2      False  False  False  False   True  False  False  False  False  False\n",
       "3      False   True  False  False  False  False  False  False  False  False\n",
       "4      False  False  False  False  False  False  False  False  False   True\n",
       "...      ...    ...    ...    ...    ...    ...    ...    ...    ...    ...\n",
       "59995  False  False  False  False  False  False  False  False   True  False\n",
       "59996  False  False  False   True  False  False  False  False  False  False\n",
       "59997  False  False  False  False  False   True  False  False  False  False\n",
       "59998  False  False  False  False  False  False   True  False  False  False\n",
       "59999  False  False  False  False  False  False  False  False   True  False\n",
       "\n",
       "[60000 rows x 10 columns]"
      ]
     },
     "execution_count": 1,
     "metadata": {},
     "output_type": "execute_result"
    }
   ],
   "source": [
    "# Your code goes here\n",
    "import pandas as pd\n",
    "train = pd.read_csv('data/mnist-train.csv')\n",
    "test = pd.read_csv('data/mnist-test.csv')\n",
    "\n",
    "Y_train = train['label']\n",
    "X_train = train.drop('label', axis=1)\n",
    "\n",
    "Y_test = test['label']\n",
    "X_test = test.drop('label', axis=1)\n",
    "\n",
    "#print(X_train.shape, Y_train.shape)\n",
    "\n",
    "y_train = pd.get_dummies(Y_train)\n",
    "y_test = pd.get_dummies(Y_test)\n",
    "y_train"
   ]
  },
  {
   "cell_type": "markdown",
   "id": "8d5dc7e06a81f23f",
   "metadata": {},
   "source": [
    "## Exercise 2: Prepare the architecture of the neural network (2 points)\n",
    "\n",
    "In this exercise, you will prepare the architecture of the neural network. You should:\n",
    "\n",
    "1. Create a neural network class that inherits from `torch.nn.Module`.\n",
    "2. The neural network should have at least one hidden layer.\n",
    "3. Use ReLU activation functions after each but the output layer.\n",
    "4. Use a softmax activation function in the output layer to get the probabilities of each class.\n",
    "\n",
    "**Feel free to experiment with the architecture of your network** - try adding more hidden layers, changing the number of neurons in each layer, etc. You can also add a dropout layer or some other regularization technique and see if it improves the performance of your model."
   ]
  },
  {
   "cell_type": "code",
   "execution_count": 2,
   "id": "e5310cb52194df1f",
   "metadata": {},
   "outputs": [
    {
     "name": "stdout",
     "output_type": "stream",
     "text": [
      "X is a tensor of shape: torch.Size([32, 784])\n",
      "y is a tensor of shape: torch.Size([32, 10])\n",
      "tensor([[0., 0., 0.,  ..., 0., 0., 0.],\n",
      "        [0., 0., 0.,  ..., 0., 0., 0.],\n",
      "        [0., 0., 0.,  ..., 0., 0., 0.],\n",
      "        ...,\n",
      "        [0., 0., 0.,  ..., 0., 0., 0.],\n",
      "        [0., 0., 0.,  ..., 0., 0., 0.],\n",
      "        [0., 0., 0.,  ..., 0., 0., 0.]])\n",
      "\n",
      "tensor([[0., 0., 0., 0., 0., 0., 0., 0., 0., 1.],\n",
      "        [0., 1., 0., 0., 0., 0., 0., 0., 0., 0.],\n",
      "        [0., 0., 0., 0., 0., 0., 1., 0., 0., 0.],\n",
      "        [0., 0., 0., 1., 0., 0., 0., 0., 0., 0.],\n",
      "        [0., 0., 0., 0., 0., 0., 1., 0., 0., 0.],\n",
      "        [0., 0., 0., 0., 0., 1., 0., 0., 0., 0.],\n",
      "        [0., 1., 0., 0., 0., 0., 0., 0., 0., 0.],\n",
      "        [0., 0., 0., 1., 0., 0., 0., 0., 0., 0.],\n",
      "        [0., 1., 0., 0., 0., 0., 0., 0., 0., 0.],\n",
      "        [1., 0., 0., 0., 0., 0., 0., 0., 0., 0.],\n",
      "        [1., 0., 0., 0., 0., 0., 0., 0., 0., 0.],\n",
      "        [1., 0., 0., 0., 0., 0., 0., 0., 0., 0.],\n",
      "        [0., 0., 0., 1., 0., 0., 0., 0., 0., 0.],\n",
      "        [0., 0., 0., 0., 0., 0., 0., 0., 1., 0.],\n",
      "        [0., 0., 0., 0., 0., 1., 0., 0., 0., 0.],\n",
      "        [0., 1., 0., 0., 0., 0., 0., 0., 0., 0.],\n",
      "        [0., 0., 1., 0., 0., 0., 0., 0., 0., 0.],\n",
      "        [0., 0., 0., 0., 0., 0., 1., 0., 0., 0.],\n",
      "        [0., 0., 1., 0., 0., 0., 0., 0., 0., 0.],\n",
      "        [1., 0., 0., 0., 0., 0., 0., 0., 0., 0.],\n",
      "        [0., 0., 0., 0., 0., 0., 0., 0., 0., 1.],\n",
      "        [0., 0., 0., 0., 0., 0., 0., 0., 1., 0.],\n",
      "        [0., 0., 0., 0., 1., 0., 0., 0., 0., 0.],\n",
      "        [1., 0., 0., 0., 0., 0., 0., 0., 0., 0.],\n",
      "        [0., 0., 1., 0., 0., 0., 0., 0., 0., 0.],\n",
      "        [1., 0., 0., 0., 0., 0., 0., 0., 0., 0.],\n",
      "        [0., 0., 0., 0., 0., 0., 0., 0., 1., 0.],\n",
      "        [0., 0., 0., 1., 0., 0., 0., 0., 0., 0.],\n",
      "        [0., 1., 0., 0., 0., 0., 0., 0., 0., 0.],\n",
      "        [0., 0., 0., 0., 0., 0., 0., 0., 0., 1.],\n",
      "        [0., 0., 0., 0., 0., 1., 0., 0., 0., 0.],\n",
      "        [0., 0., 0., 0., 0., 0., 0., 1., 0., 0.]])\n"
     ]
    }
   ],
   "source": [
    "# Your code goes here\n",
    "import torch\n",
    "from torch.utils.data import DataLoader, TensorDataset\n",
    "import torch.nn as nn\n",
    "\n",
    "X_train_std = X_train/255\n",
    "X_test_std = X_test/255\n",
    "\n",
    "X_train_t = torch.tensor(X_train_std.to_numpy(), dtype=torch.float32)\n",
    "Y_train_t = torch.tensor(y_train.to_numpy(), dtype=torch.float32)\n",
    "\n",
    "X_test_t = torch.tensor(X_test_std.to_numpy(), dtype=torch.float32)\n",
    "Y_test_t = torch.tensor(y_test.to_numpy(), dtype=torch.float32)\n",
    "\n",
    "train = TensorDataset(X_train_t, Y_train_t)\n",
    "test = TensorDataset(X_test_t, Y_test_t)\n",
    "\n",
    "train_loader = DataLoader(train, batch_size=32, shuffle=True)\n",
    "test_loader = DataLoader(test, batch_size=132, shuffle=False)\n",
    "\n",
    "X, y = next(iter(train_loader))\n",
    "\n",
    "print(\"X is a tensor of shape:\", X.shape)\n",
    "print(\"y is a tensor of shape:\", y.shape)\n",
    "print(X)\n",
    "print()\n",
    "print(y)"
   ]
  },
  {
   "cell_type": "code",
   "execution_count": 12,
   "id": "aa3bb251-17a3-4b51-9686-acf78f5a832c",
   "metadata": {},
   "outputs": [
    {
     "data": {
      "text/plain": [
       "tensor([0., 0., 1., 0., 0., 0., 0., 0., 0., 0.])"
      ]
     },
     "execution_count": 12,
     "metadata": {},
     "output_type": "execute_result"
    },
    {
     "data": {
      "image/png": "[encoded data removed]",
      "text/plain": [
       "<Figure size 640x480 with 2 Axes>"
      ]
     },
     "metadata": {},
     "output_type": "display_data"
    }
   ],
   "source": [
    "import seaborn as sns\n",
    "sns.heatmap(X[0].reshape(28, 28), cmap='gray')\n",
    "y[0]"
   ]
  },
  {
   "cell_type": "code",
   "execution_count": 3,
   "id": "2ef84220-6f27-4d19-b584-c95db32bd63c",
   "metadata": {},
   "outputs": [],
   "source": [
    "class NeuralNetwork(nn.Module):\n",
    "    def __init__(self, hidden_size_1, hidden_size_2):\n",
    "        super(NeuralNetwork, self).__init__()\n",
    "        self.fc1 = nn.Linear(784, hidden_size_1)\n",
    "        self.fc2 = nn.Linear(hidden_size_1, hidden_size_2)\n",
    "        self.fc3 = nn.Linear(hidden_size_2, 10)\n",
    "        self.relu = nn.ReLU()\n",
    "        self.output = nn.Softmax(dim=1)\n",
    "        \n",
    "    def forward(self, x):\n",
    "        h = self.fc1(x)\n",
    "        h = self.relu(h)\n",
    "        h = self.fc2(h)\n",
    "        h = self.relu(h)\n",
    "        h = self.fc3(h)\n",
    "        return self.output(h)\n",
    "\n"
   ]
  },
  {
   "cell_type": "markdown",
   "id": "49e2efbd440294eb",
   "metadata": {},
   "source": [
    "## *Training PyTorch models on GPU\n",
    "\n",
    "**GPUs are optimized for performing matrix operations in parallel.** Although we call them \"graphics processing units\", they are actually very powerful processors that can be used for any kind of parallel computation, including training deep neural networks. In fact, data science is one of the most common applications of GPUs today, as can be seen by the revenue of companies like NVIDIA over the past few years. NVIDIA is a monopolist in the GPU market - in 2023, the company owned 92% of the data center GPU market share. As for 31 July, the 2024 revenue of NVIDIA was 60.92 billion USD, while the total revenue of 2020 was $10.92 billion. If someone benefits from the current deep learning hype, it is certainly NVIDIA.\n",
    "\n",
    "If you happen to have an NVIDIA GPU in your computer, you can use it to train your deep learning models, as PyTorch has excellent support for CUDA, which is NVIDIA's parallel computing API. To train a model on GPU, you need to explicitly tell PyTorch to move the model and the data to the GPU. \n",
    "\n",
    "Here is an example training loop that uses the GPU:\n",
    "\n",
    "```python\n",
    "device = torch.device('cuda' if torch.cuda.is_available() else 'cpu')   # Check if a GPU is available\n",
    "\n",
    "# Initialize the model and move it to the GPU\n",
    "model = SomeNeuralNetwork().to(device)   # Move the model to the GPU\n",
    "\n",
    "for epoch in range(100):\n",
    "    for batch in data_loader:\n",
    "        X, y = batch\n",
    "        X, y = X.to(device), y.to(device)   # Move the tensors to GPU\n",
    "        \n",
    "        y_pred = model(X)   # Perform a forward pass (on the GPU)\n",
    "        loss = criterion(y_pred, y)   # Compute the loss (still on the GPU)\n",
    "        \n",
    "        ...  # The rest of the training loop\n",
    "        \n",
    "        y_pred = y_pred.detach().cpu()   # Move the predictions back to the CPU to do anything else with them\n",
    "```\n",
    "\n",
    "Note that **the model and all the tensors it uses for computation should be moved to the GPU**. You can do this by calling the `.to(device)` method on the model and the data tensors. If you want to move the data back to the CPU (to process it further, calculate metrics, visualize), you call the `.cpu()` method on the tensor.\n",
    "\n",
    "**Doing calculations on the GPU, you should be wary of few things:**\n",
    "\n",
    "* **The GPU has a limited amount of memory**, so you should be careful not to run out of memory. A typical graphics card has a few gigabytes of memory, so you should be fine with most models and datasets. However, moving very large tensors to the GPU can cause out-of-memory errors. That's one of the reasons why we use a dataloader and process the data in batches.\n",
    "* While the GPU is much faster than the CPU for large matrix operations, **transferring data between the CPU and the GPU is slow**. Therefore, it is best to minimize the number of data transfers between the CPU and the GPU."
   ]
  },
  {
   "cell_type": "markdown",
   "id": "e94574b231d68216",
   "metadata": {},
   "source": [
    "## Exercise 3: Prepare the training loop (2 points)\n",
    "\n",
    "In this exercise, you will prepare the training loop. You should:\n",
    "\n",
    "1. Initialize the neural network.\n",
    "2. Define the loss function.\n",
    "3. Define the optimizer.\n",
    "4. Pass a dictionary with the configuration to wandb. This dictionary should contain all the hyperparameters of our model, including the learning rate, the size of the hidden layers, batch size, etc.\n",
    "4. Train the neural network. Each epoch should consist of a training and validation phase. You should log the loss and accuracy of the training and validation sets using wandb.\n",
    "5. Open you project at [wandb.ai](https://wandb.ai/) and see how cool it is!\n",
    "\n",
    "### Saving and loading the model\n",
    "As training can take some time, it is a good idea to save the model's state dictionary (its learned weights) to a file after training. You can do this with the following code:\n",
    "\n",
    "    torch.save(vae.state_dict(), 'vae.pth')\n",
    "    \n",
    "To load the model from the file, you can use the following code:\n",
    "\n",
    "    vae.load_state_dict(torch.load('vae.pth'))"
   ]
  },
  {
   "cell_type": "code",
   "execution_count": 22,
   "id": "d558333aa5fa0bcb",
   "metadata": {},
   "outputs": [
    {
     "name": "stderr",
     "output_type": "stream",
     "text": [
      "wandb: W&B API key is configured. Use `wandb login --relogin` to force relogin\n",
      "wandb: WARNING If you're specifying your api key in code, ensure this code is not shared publicly.\n",
      "wandb: WARNING Consider setting the WANDB_API_KEY environment variable, or running `wandb login` from the command line.\n",
      "wandb: Appending key for api.wandb.ai to your netrc file: C:\\Users\\admin\\_netrc\n",
      "wandb: Currently logged in as: tiopirfur (tiopirfur-uniwersytet-jagiello-ski-w-krakowie). Use `wandb login --relogin` to force relogin\n"
     ]
    },
    {
     "data": {
      "application/vnd.jupyter.widget-view+json": {
       "model_id": "fb584c1c3b504d90b6020c2ef74f118c",
       "version_major": 2,
       "version_minor": 0
      },
      "text/plain": [
       "VBox(children=(Label(value='Waiting for wandb.init()...\\r'), FloatProgress(value=0.011111111111111112, max=1.0…"
      ]
     },
     "metadata": {},
     "output_type": "display_data"
    },
    {
     "data": {
      "text/html": [
       "Tracking run with wandb version 0.18.7"
      ],
      "text/plain": [
       "<IPython.core.display.HTML object>"
      ]
     },
     "metadata": {},
     "output_type": "display_data"
    },
    {
     "data": {
      "text/html": [
       "Run data is saved locally in <code>C:\\Users\\admin\\Documents\\GitHub\\pum-24\\wandb\\run-20250127_123749-p6txmie9</code>"
      ],
      "text/plain": [
       "<IPython.core.display.HTML object>"
      ]
     },
     "metadata": {},
     "output_type": "display_data"
    },
    {
     "data": {
      "text/html": [
       "Syncing run <strong><a href='https://wandb.ai/tiopirfur-uniwersytet-jagiello-ski-w-krakowie/mnist-classifier/runs/p6txmie9' target=\"_blank\">solar-resonance-1</a></strong> to <a href='https://wandb.ai/tiopirfur-uniwersytet-jagiello-ski-w-krakowie/mnist-classifier' target=\"_blank\">Weights & Biases</a> (<a href='https://wandb.me/developer-guide' target=\"_blank\">docs</a>)<br/>"
      ],
      "text/plain": [
       "<IPython.core.display.HTML object>"
      ]
     },
     "metadata": {},
     "output_type": "display_data"
    },
    {
     "data": {
      "text/html": [
       " View project at <a href='https://wandb.ai/tiopirfur-uniwersytet-jagiello-ski-w-krakowie/mnist-classifier' target=\"_blank\">https://wandb.ai/tiopirfur-uniwersytet-jagiello-ski-w-krakowie/mnist-classifier</a>"
      ],
      "text/plain": [
       "<IPython.core.display.HTML object>"
      ]
     },
     "metadata": {},
     "output_type": "display_data"
    },
    {
     "data": {
      "text/html": [
       " View run at <a href='https://wandb.ai/tiopirfur-uniwersytet-jagiello-ski-w-krakowie/mnist-classifier/runs/p6txmie9' target=\"_blank\">https://wandb.ai/tiopirfur-uniwersytet-jagiello-ski-w-krakowie/mnist-classifier/runs/p6txmie9</a>"
      ],
      "text/plain": [
       "<IPython.core.display.HTML object>"
      ]
     },
     "metadata": {},
     "output_type": "display_data"
    },
    {
     "name": "stdout",
     "output_type": "stream",
     "text": [
      "Epoch: 0\n",
      "Train loss: 1.6155208134969075\n",
      "Validation loss: 1.5371696729409068\n",
      "Epoch: 1\n",
      "Train loss: 1.523804834683736\n",
      "Validation loss: 1.5112780928611755\n",
      "Epoch: 2\n",
      "Train loss: 1.508758923403422\n",
      "Validation loss: 1.5025741881445835\n",
      "Epoch: 3\n",
      "Train loss: 1.4996286329269408\n",
      "Validation loss: 1.494748415131318\n",
      "Epoch: 4\n",
      "Train loss: 1.4943297377904257\n",
      "Validation loss: 1.4931037676961798\n",
      "Epoch: 5\n",
      "Train loss: 1.4893020144780478\n",
      "Validation loss: 1.4906071220573627\n",
      "Epoch: 6\n",
      "Train loss: 1.4865883273442586\n",
      "Validation loss: 1.4944061307530654\n",
      "Epoch: 7\n",
      "Train loss: 1.484776527150472\n",
      "Validation loss: 1.4917925298213959\n",
      "Epoch: 8\n",
      "Train loss: 1.4834686218897501\n",
      "Validation loss: 1.4905075195588564\n",
      "Epoch: 9\n",
      "Train loss: 1.4809174185434977\n",
      "Validation loss: 1.4895672798156738\n",
      "Epoch: 10\n",
      "Train loss: 1.4791995577494303\n",
      "Validation loss: 1.486901774218208\n",
      "Epoch: 11\n",
      "Train loss: 1.4786795873641967\n",
      "Validation loss: 1.4861769927175421\n",
      "Epoch: 12\n",
      "Train loss: 1.478247556622823\n",
      "Validation loss: 1.4915296058905751\n",
      "Epoch: 13\n",
      "Train loss: 1.4768560950597127\n",
      "Validation loss: 1.4864193106952466\n",
      "Epoch: 14\n",
      "Train loss: 1.4761573291778565\n",
      "Validation loss: 1.4903109340291274\n",
      "Epoch: 15\n",
      "Train loss: 1.4765824556350708\n",
      "Validation loss: 1.4851152959622835\n",
      "Epoch: 16\n",
      "Train loss: 1.4749840317408245\n",
      "Validation loss: 1.4845702820702602\n",
      "Epoch: 17\n",
      "Train loss: 1.474802306175232\n",
      "Validation loss: 1.4859918983359086\n",
      "Epoch: 18\n",
      "Train loss: 1.474208460299174\n",
      "Validation loss: 1.4853015212636245\n",
      "Epoch: 19\n",
      "Train loss: 1.4737321095784506\n",
      "Validation loss: 1.4839582992227454\n",
      "Epoch: 20\n",
      "Train loss: 1.4746637010574342\n",
      "Validation loss: 1.492465339208904\n",
      "Epoch: 21\n",
      "Train loss: 1.4738458079655965\n",
      "Validation loss: 1.4860822244694358\n",
      "Epoch: 22\n",
      "Train loss: 1.4730457051595052\n",
      "Validation loss: 1.4848206482435529\n",
      "Epoch: 23\n",
      "Train loss: 1.4726902186075845\n",
      "Validation loss: 1.4828871943448718\n",
      "Epoch: 24\n",
      "Train loss: 1.472543444887797\n",
      "Validation loss: 1.4839781758032347\n",
      "Epoch: 25\n",
      "Train loss: 1.4721424617767334\n",
      "Validation loss: 1.4842248449200077\n",
      "Epoch: 26\n",
      "Train loss: 1.4715415114720662\n",
      "Validation loss: 1.483603846085699\n",
      "Epoch: 27\n",
      "Train loss: 1.4721242281595865\n",
      "Validation loss: 1.4858144725623883\n",
      "Epoch: 28\n",
      "Train loss: 1.4724329160054526\n",
      "Validation loss: 1.4836191378141705\n",
      "Epoch: 29\n",
      "Train loss: 1.4705563833872477\n",
      "Validation loss: 1.4841853756653636\n",
      "Epoch: 30\n",
      "Train loss: 1.4713317916234334\n",
      "Validation loss: 1.4829668590897007\n",
      "Epoch: 31\n",
      "Train loss: 1.4718130755742391\n",
      "Validation loss: 1.4826160136022066\n",
      "Epoch: 32\n",
      "Train loss: 1.4705208731969197\n",
      "Validation loss: 1.4840835379926782\n",
      "Epoch: 33\n",
      "Train loss: 1.4699081259409588\n",
      "Validation loss: 1.4870455437584926\n",
      "Epoch: 34\n",
      "Train loss: 1.4719397190729777\n",
      "Validation loss: 1.4833300521499233\n",
      "Epoch: 35\n",
      "Train loss: 1.4701930880228677\n",
      "Validation loss: 1.4896232705367238\n",
      "Epoch: 36\n",
      "Train loss: 1.4707687966664633\n",
      "Validation loss: 1.4847404580367238\n",
      "Epoch: 37\n",
      "Train loss: 1.471290402285258\n",
      "Validation loss: 1.4860598507680391\n",
      "Epoch: 38\n",
      "Train loss: 1.4708025953292847\n",
      "Validation loss: 1.4822434626127545\n",
      "Epoch: 39\n",
      "Train loss: 1.4703213143666585\n",
      "Validation loss: 1.4869503520037\n",
      "Epoch: 40\n",
      "Train loss: 1.4704778376897176\n",
      "Validation loss: 1.4855281585141231\n",
      "Epoch: 41\n",
      "Train loss: 1.4693701955159506\n",
      "Validation loss: 1.483615014113878\n",
      "Epoch: 42\n",
      "Train loss: 1.470831289100647\n",
      "Validation loss: 1.4825462714621895\n",
      "Epoch: 43\n",
      "Train loss: 1.4707432015736899\n",
      "Validation loss: 1.4831605788908506\n",
      "Epoch: 44\n",
      "Train loss: 1.4695471777598064\n",
      "Validation loss: 1.482614451333096\n",
      "Epoch: 45\n",
      "Train loss: 1.4696769832611083\n",
      "Validation loss: 1.482970217340871\n",
      "Epoch: 46\n",
      "Train loss: 1.4700873273213704\n",
      "Validation loss: 1.4838167883847888\n",
      "Epoch: 47\n",
      "Train loss: 1.4700070479710896\n",
      "Validation loss: 1.4831221605602063\n",
      "Epoch: 48\n",
      "Train loss: 1.4698166134516397\n",
      "Validation loss: 1.4843653111081374\n",
      "Epoch: 49\n",
      "Train loss: 1.470591519355774\n",
      "Validation loss: 1.4827067397142712\n",
      "Epoch: 50\n",
      "Train loss: 1.4696741027196247\n",
      "Validation loss: 1.4836795000653518\n",
      "Epoch: 51\n",
      "Train loss: 1.4697306783676147\n",
      "Validation loss: 1.4852557511706102\n",
      "Epoch: 52\n",
      "Train loss: 1.469025891049703\n",
      "Validation loss: 1.483956559708244\n",
      "Epoch: 53\n",
      "Train loss: 1.4696081745147704\n",
      "Validation loss: 1.4824981642396826\n",
      "Epoch: 54\n",
      "Train loss: 1.4697495665868123\n",
      "Validation loss: 1.4842238081128973\n",
      "Epoch: 55\n",
      "Train loss: 1.4698793596903483\n",
      "Validation loss: 1.4848132243281917\n",
      "Epoch: 56\n",
      "Train loss: 1.4698339935938518\n",
      "Validation loss: 1.48698406313595\n",
      "Epoch: 57\n",
      "Train loss: 1.4696290934244791\n",
      "Validation loss: 1.4825348556041718\n",
      "Epoch: 58\n",
      "Train loss: 1.4693445846557618\n",
      "Validation loss: 1.4885171714581942\n"
     ]
    },
    {
     "ename": "KeyboardInterrupt",
     "evalue": "",
     "output_type": "error",
     "traceback": [
      "\u001b[1;31m---------------------------------------------------------------------------\u001b[0m",
      "\u001b[1;31mKeyboardInterrupt\u001b[0m                         Traceback (most recent call last)",
      "Cell \u001b[1;32mIn[22], line 47\u001b[0m\n\u001b[0;32m     44\u001b[0m     \u001b[38;5;28;01mreturn\u001b[39;00m model\n\u001b[0;32m     46\u001b[0m model \u001b[38;5;241m=\u001b[39m NeuralNetwork(\u001b[38;5;241m128\u001b[39m, \u001b[38;5;241m64\u001b[39m)\n\u001b[1;32m---> 47\u001b[0m \u001b[43mtrain\u001b[49m\u001b[43m(\u001b[49m\u001b[43mmodel\u001b[49m\u001b[43m,\u001b[49m\u001b[43m \u001b[49m\u001b[43mtrain_loader\u001b[49m\u001b[43m,\u001b[49m\u001b[43m \u001b[49m\u001b[43mtest_loader\u001b[49m\u001b[43m)\u001b[49m\n",
      "Cell \u001b[1;32mIn[22], line 21\u001b[0m, in \u001b[0;36mtrain\u001b[1;34m(model, train_loader, val_loader, epochs)\u001b[0m\n\u001b[0;32m     16\u001b[0m \u001b[38;5;28;01mfor\u001b[39;00m X_batch, y_batch \u001b[38;5;129;01min\u001b[39;00m train_loader:   \u001b[38;5;66;03m# load data batch-by-batch; trzeba dzielić na batche, bo karty graficzne mają ograniczoną pamięć VRAM.\u001b[39;00m\n\u001b[0;32m     17\u001b[0m     \u001b[38;5;66;03m#Jakbyśmy nie mieli batche, to gradienty po całym datasecie byłyby zawsze takie same. Przez to, że mamy różne dane w batchach to spadek jest losowy\u001b[39;00m\n\u001b[0;32m     18\u001b[0m     \u001b[38;5;66;03m#(stochastyczny gradient) i może wyjdziemy z lokalnych minimów.\u001b[39;00m\n\u001b[0;32m     20\u001b[0m     optimizer\u001b[38;5;241m.\u001b[39mzero_grad()   \u001b[38;5;66;03m# clear the gradients\u001b[39;00m\n\u001b[1;32m---> 21\u001b[0m     y_pred \u001b[38;5;241m=\u001b[39m \u001b[43mmodel\u001b[49m\u001b[43m(\u001b[49m\u001b[43mX_batch\u001b[49m\u001b[43m)\u001b[49m  \u001b[38;5;66;03m# forward pass\u001b[39;00m\n\u001b[0;32m     22\u001b[0m     batch_loss \u001b[38;5;241m=\u001b[39m loss(y_pred, y_batch) \u001b[38;5;66;03m# compute the loss\u001b[39;00m\n\u001b[0;32m     23\u001b[0m     batch_loss\u001b[38;5;241m.\u001b[39mbackward()   \u001b[38;5;66;03m# compute the gradients\u001b[39;00m\n",
      "File \u001b[1;32m~\\miniconda3\\envs\\pum\\lib\\site-packages\\torch\\nn\\modules\\module.py:1194\u001b[0m, in \u001b[0;36mModule._call_impl\u001b[1;34m(self, *input, **kwargs)\u001b[0m\n\u001b[0;32m   1190\u001b[0m \u001b[38;5;66;03m# If we don't have any hooks, we want to skip the rest of the logic in\u001b[39;00m\n\u001b[0;32m   1191\u001b[0m \u001b[38;5;66;03m# this function, and just call forward.\u001b[39;00m\n\u001b[0;32m   1192\u001b[0m \u001b[38;5;28;01mif\u001b[39;00m \u001b[38;5;129;01mnot\u001b[39;00m (\u001b[38;5;28mself\u001b[39m\u001b[38;5;241m.\u001b[39m_backward_hooks \u001b[38;5;129;01mor\u001b[39;00m \u001b[38;5;28mself\u001b[39m\u001b[38;5;241m.\u001b[39m_forward_hooks \u001b[38;5;129;01mor\u001b[39;00m \u001b[38;5;28mself\u001b[39m\u001b[38;5;241m.\u001b[39m_forward_pre_hooks \u001b[38;5;129;01mor\u001b[39;00m _global_backward_hooks\n\u001b[0;32m   1193\u001b[0m         \u001b[38;5;129;01mor\u001b[39;00m _global_forward_hooks \u001b[38;5;129;01mor\u001b[39;00m _global_forward_pre_hooks):\n\u001b[1;32m-> 1194\u001b[0m     \u001b[38;5;28;01mreturn\u001b[39;00m forward_call(\u001b[38;5;241m*\u001b[39m\u001b[38;5;28minput\u001b[39m, \u001b[38;5;241m*\u001b[39m\u001b[38;5;241m*\u001b[39mkwargs)\n\u001b[0;32m   1195\u001b[0m \u001b[38;5;66;03m# Do not call functions when jit is used\u001b[39;00m\n\u001b[0;32m   1196\u001b[0m full_backward_hooks, non_full_backward_hooks \u001b[38;5;241m=\u001b[39m [], []\n",
      "Cell \u001b[1;32mIn[16], line 16\u001b[0m, in \u001b[0;36mNeuralNetwork.forward\u001b[1;34m(self, x)\u001b[0m\n\u001b[0;32m     14\u001b[0m h \u001b[38;5;241m=\u001b[39m \u001b[38;5;28mself\u001b[39m\u001b[38;5;241m.\u001b[39mrelu(h)\n\u001b[0;32m     15\u001b[0m h \u001b[38;5;241m=\u001b[39m \u001b[38;5;28mself\u001b[39m\u001b[38;5;241m.\u001b[39mfc3(h)\n\u001b[1;32m---> 16\u001b[0m \u001b[38;5;28;01mreturn\u001b[39;00m \u001b[38;5;28;43mself\u001b[39;49m\u001b[38;5;241;43m.\u001b[39;49m\u001b[43moutput\u001b[49m\u001b[43m(\u001b[49m\u001b[43mh\u001b[49m\u001b[43m)\u001b[49m\n",
      "File \u001b[1;32m~\\miniconda3\\envs\\pum\\lib\\site-packages\\torch\\nn\\modules\\module.py:1194\u001b[0m, in \u001b[0;36mModule._call_impl\u001b[1;34m(self, *input, **kwargs)\u001b[0m\n\u001b[0;32m   1190\u001b[0m \u001b[38;5;66;03m# If we don't have any hooks, we want to skip the rest of the logic in\u001b[39;00m\n\u001b[0;32m   1191\u001b[0m \u001b[38;5;66;03m# this function, and just call forward.\u001b[39;00m\n\u001b[0;32m   1192\u001b[0m \u001b[38;5;28;01mif\u001b[39;00m \u001b[38;5;129;01mnot\u001b[39;00m (\u001b[38;5;28mself\u001b[39m\u001b[38;5;241m.\u001b[39m_backward_hooks \u001b[38;5;129;01mor\u001b[39;00m \u001b[38;5;28mself\u001b[39m\u001b[38;5;241m.\u001b[39m_forward_hooks \u001b[38;5;129;01mor\u001b[39;00m \u001b[38;5;28mself\u001b[39m\u001b[38;5;241m.\u001b[39m_forward_pre_hooks \u001b[38;5;129;01mor\u001b[39;00m _global_backward_hooks\n\u001b[0;32m   1193\u001b[0m         \u001b[38;5;129;01mor\u001b[39;00m _global_forward_hooks \u001b[38;5;129;01mor\u001b[39;00m _global_forward_pre_hooks):\n\u001b[1;32m-> 1194\u001b[0m     \u001b[38;5;28;01mreturn\u001b[39;00m forward_call(\u001b[38;5;241m*\u001b[39m\u001b[38;5;28minput\u001b[39m, \u001b[38;5;241m*\u001b[39m\u001b[38;5;241m*\u001b[39mkwargs)\n\u001b[0;32m   1195\u001b[0m \u001b[38;5;66;03m# Do not call functions when jit is used\u001b[39;00m\n\u001b[0;32m   1196\u001b[0m full_backward_hooks, non_full_backward_hooks \u001b[38;5;241m=\u001b[39m [], []\n",
      "File \u001b[1;32m~\\miniconda3\\envs\\pum\\lib\\site-packages\\torch\\nn\\modules\\activation.py:1390\u001b[0m, in \u001b[0;36mSoftmax.forward\u001b[1;34m(self, input)\u001b[0m\n\u001b[0;32m   1389\u001b[0m \u001b[38;5;28;01mdef\u001b[39;00m \u001b[38;5;21mforward\u001b[39m(\u001b[38;5;28mself\u001b[39m, \u001b[38;5;28minput\u001b[39m: Tensor) \u001b[38;5;241m-\u001b[39m\u001b[38;5;241m>\u001b[39m Tensor:\n\u001b[1;32m-> 1390\u001b[0m     \u001b[38;5;28;01mreturn\u001b[39;00m \u001b[43mF\u001b[49m\u001b[38;5;241;43m.\u001b[39;49m\u001b[43msoftmax\u001b[49m\u001b[43m(\u001b[49m\u001b[38;5;28;43minput\u001b[39;49m\u001b[43m,\u001b[49m\u001b[43m \u001b[49m\u001b[38;5;28;43mself\u001b[39;49m\u001b[38;5;241;43m.\u001b[39;49m\u001b[43mdim\u001b[49m\u001b[43m,\u001b[49m\u001b[43m \u001b[49m\u001b[43m_stacklevel\u001b[49m\u001b[38;5;241;43m=\u001b[39;49m\u001b[38;5;241;43m5\u001b[39;49m\u001b[43m)\u001b[49m\n",
      "File \u001b[1;32m~\\miniconda3\\envs\\pum\\lib\\site-packages\\torch\\nn\\functional.py:1841\u001b[0m, in \u001b[0;36msoftmax\u001b[1;34m(input, dim, _stacklevel, dtype)\u001b[0m\n\u001b[0;32m   1839\u001b[0m     dim \u001b[38;5;241m=\u001b[39m _get_softmax_dim(\u001b[38;5;124m\"\u001b[39m\u001b[38;5;124msoftmax\u001b[39m\u001b[38;5;124m\"\u001b[39m, \u001b[38;5;28minput\u001b[39m\u001b[38;5;241m.\u001b[39mdim(), _stacklevel)\n\u001b[0;32m   1840\u001b[0m \u001b[38;5;28;01mif\u001b[39;00m dtype \u001b[38;5;129;01mis\u001b[39;00m \u001b[38;5;28;01mNone\u001b[39;00m:\n\u001b[1;32m-> 1841\u001b[0m     ret \u001b[38;5;241m=\u001b[39m \u001b[38;5;28;43minput\u001b[39;49m\u001b[38;5;241;43m.\u001b[39;49m\u001b[43msoftmax\u001b[49m\u001b[43m(\u001b[49m\u001b[43mdim\u001b[49m\u001b[43m)\u001b[49m\n\u001b[0;32m   1842\u001b[0m \u001b[38;5;28;01melse\u001b[39;00m:\n\u001b[0;32m   1843\u001b[0m     ret \u001b[38;5;241m=\u001b[39m \u001b[38;5;28minput\u001b[39m\u001b[38;5;241m.\u001b[39msoftmax(dim, dtype\u001b[38;5;241m=\u001b[39mdtype)\n",
      "\u001b[1;31mKeyboardInterrupt\u001b[0m: "
     ]
    }
   ],
   "source": [
    "# Your code goes here\n",
    "import wandb\n",
    "\n",
    "def train(model, train_loader, val_loader, epochs=100):\n",
    "\n",
    "    wandb.login(key='876dfec77c2e4a68b24ec9499a55665f94652f25')\n",
    "    wandb.init(project='mnist-classifier', config={'learning_rate': 0.01, 'layer_1_size': 128, 'layer_2_size': 64, 'batch_size': 32})\n",
    "    \n",
    "    optimizer = torch.optim.Adam(model.parameters(), lr=0.001)\n",
    "    loss = nn.CrossEntropyLoss()\n",
    "\n",
    "    for epoch in range(epochs):\n",
    "        model.train()   # set the model to training mode (some layers may behave differently in training and evaluation)\n",
    "        train_loss = 0  # this variable will accumulate the training loss\n",
    "        \n",
    "        for X_batch, y_batch in train_loader:   # load data batch-by-batch; trzeba dzielić na batche, bo karty graficzne mają ograniczoną pamięć VRAM.\n",
    "            #Jakbyśmy nie mieli batche, to gradienty po całym datasecie byłyby zawsze takie same. Przez to, że mamy różne dane w batchach to spadek jest losowy\n",
    "            #(stochastyczny gradient) i może wyjdziemy z lokalnych minimów.\n",
    "            \n",
    "            optimizer.zero_grad()   # clear the gradients\n",
    "            y_pred = model(X_batch)  # forward pass\n",
    "            batch_loss = loss(y_pred, y_batch) # compute the loss\n",
    "            batch_loss.backward()   # compute the gradients\n",
    "            optimizer.step()    # update the weights\n",
    "            \n",
    "            train_loss += batch_loss.item() # accumulate training loss\n",
    "        \n",
    "        train_loss = train_loss / len(train_loader) # compute the average loss\n",
    "        print(f'Epoch: {epoch}')\n",
    "        print(f'Train loss: {train_loss}')\n",
    "                  \n",
    "        model.eval()    # set the model to evaluation mode\n",
    "        val_loss = 0    # this variable will accumulate the validation loss\n",
    "        \n",
    "        for X_batch, y_batch in val_loader:\n",
    "            \n",
    "            y_pred = model(X_batch)\n",
    "            val_loss += loss(y_pred, y_batch).item()    # accumulate validation loss\n",
    "            \n",
    "        val_loss = val_loss / len(val_loader)\n",
    "        print(f'Validation loss: {val_loss}')\n",
    "        wandb.log({'train_loss': train_loss, 'val_loss': val_loss})\n",
    "        \n",
    "    return model\n",
    "\n",
    "model = NeuralNetwork(128, 64)\n",
    "train(model, train_loader, test_loader)"
   ]
  },
  {
   "cell_type": "markdown",
   "id": "a77990efcffab975",
   "metadata": {},
   "source": [
    "## Exercise 4: Easy hyperparameter tuning with wandb (2 points)\n",
    "\n",
    "Wandb allows you to perform hyperparameter tuning by automatically creating multiple runs with different hyperparameters and logging the performance of each run. Below is a brief instruction to `wandb` hyperparameter tuning, but you are more than welcome to find more information in the [official wandb guide](https://docs.wandb.ai/guides/sweeps/).\n",
    "\n",
    "Your task is to use wandb to perform hyperparameter tuning of the neural network, trying different values of the learning rate, batch size, and the size of the hidden layers. You can use the following hyperparameters:\n",
    "\n",
    "First, we need to define a dictionary with the hyperparameters that we want to tune. For example:\n",
    "\n",
    "```python\n",
    "parameters = {\n",
    "    'learning_rate': {'values': [0.01, 0.001, 0.0001]},\n",
    "    'batch_size': {'values': [32, 64, 128]},\n",
    "    'layer_1_size': {'values': [64, 128, 256]},\n",
    "    'layer_2_size': {'values': [32, 64, 128]}\n",
    "}\n",
    "```\n",
    "\n",
    "Then we need to create a dictionary with the configuration of the run:\n",
    "\n",
    "```python\n",
    "sweep_config = {\n",
    "    'name': 'mnist-sweep',\n",
    "    'method': 'grid',   # grid search, you can also try 'random' or 'bayes'\n",
    "    'metric': {'goal': 'minimize', 'name': 'val_loss'},\n",
    "    'parameters': parameters,   # that's the dictionary with the hyperparameters\n",
    "}\n",
    "```\n",
    "\n",
    "Finally, we can use the `wandb.sweep` function to perform hyperparameter tuning:\n",
    "\n",
    "```python\n",
    "sweep_id = wandb.sweep(sweep_config, project='mnist-classifier')\n",
    "```\n",
    "\n",
    "After that, we can finally run the sweep:\n",
    "\n",
    "```python\n",
    "wandb.agent(sweep_id, function=train)\n",
    "```\n",
    "where `train` is a function that trains the model and logs the metrics to wandb. This function should take a `config` argument, which will contain the hyperparameters of the run. That is how wandb knows which hyperparameters to tune.\n",
    "\n",
    "1. Rewrite the VAE training loop into a function that takes a single dictionary `parameters` as an argument, initializes the model, optimizer, and criterion, and trains the model for a fixed number of epochs. The function should log the loss and accuracy of the training and validation sets to wandb.\n",
    "2. Create a dictionary with the hyperparameters that you want to tune.\n",
    "3. Create a sweep configuration dictionary.\n",
    "4. Run the sweep and monitor the results in the wandb dashboard."
   ]
  },
  {
   "cell_type": "code",
   "execution_count": 14,
   "id": "d35f63fb35d55201",
   "metadata": {},
   "outputs": [],
   "source": [
    "import wandb\n",
    "\n",
    "train_dataset = TensorDataset(X_train_t, Y_train_t)\n",
    "test_dataset = TensorDataset(X_test_t, Y_test_t)\n",
    "\n",
    "def train(epochs=50): #parameters: dict, \n",
    "    \n",
    "    wandb.init(project='mnist-classifier') #, config={'learning_rate': parameters['learning_rate'], \n",
    "                                           #        'layer_1_size': parameters['layer_1_size'], \n",
    "                                           #        'layer_2_size': parameters['layer_2_size'], \n",
    "                                           #        'batch_size': parameters['batch_size']})\n",
    "    \n",
    "    train_loader = DataLoader(train_dataset, batch_size=wandb.config.batch_size, shuffle=True)\n",
    "    val_loader = DataLoader(test_dataset, batch_size=wandb.config.batch_size, shuffle=False)\n",
    "    model = NeuralNetwork(wandb.config.layer_1_size, wandb.config.layer_2_size)\n",
    "    optimizer = torch.optim.Adam(model.parameters(), lr=wandb.config.learning_rate)\n",
    "    loss = nn.CrossEntropyLoss()\n",
    "\n",
    "    for epoch in range(epochs):\n",
    "        model.train()   # set the model to training mode (some layers may behave differently in training and evaluation)\n",
    "        train_loss = 0  # this variable will accumulate the training loss\n",
    "        \n",
    "        for X_batch, y_batch in train_loader:   # load data batch-by-batch; trzeba dzielić na batche, bo karty graficzne mają ograniczoną pamięć VRAM.\n",
    "            #Jakbyśmy nie mieli batche, to gradienty po całym datasecie byłyby zawsze takie same. Przez to, że mamy różne dane w batchach to spadek jest losowy\n",
    "            #(stochastyczny gradient) i może wyjdziemy z lokalnych minimów.\n",
    "            \n",
    "            optimizer.zero_grad()   # clear the gradients\n",
    "            y_pred = model(X_batch)  # forward pass\n",
    "            batch_loss = loss(y_pred, y_batch) # compute the loss\n",
    "            batch_loss.backward()   # compute the gradients\n",
    "            optimizer.step()    # update the weights\n",
    "            \n",
    "            train_loss += batch_loss.item() # accumulate training loss\n",
    "        \n",
    "        train_loss = train_loss / len(train_loader) # compute the average loss\n",
    "        print(f'Epoch: {epoch}')\n",
    "        print(f'Train loss: {train_loss}')\n",
    "                  \n",
    "        model.eval()    # set the model to evaluation mode\n",
    "        val_loss = 0    # this variable will accumulate the validation loss\n",
    "        \n",
    "        for X_batch, y_batch in val_loader:\n",
    "            \n",
    "            y_pred = model(X_batch)\n",
    "            val_loss += loss(y_pred, y_batch).item()    # accumulate validation loss\n",
    "            \n",
    "        val_loss = val_loss / len(val_loader)\n",
    "        print(f'Validation loss: {val_loss}')\n",
    "        print()\n",
    "        wandb.log({'train_loss': train_loss, 'val_loss': val_loss})\n",
    "        \n",
    "    return model"
   ]
  },
  {
   "cell_type": "code",
   "execution_count": 15,
   "id": "b896fac35c516b81",
   "metadata": {},
   "outputs": [
    {
     "name": "stderr",
     "output_type": "stream",
     "text": [
      "wandb: WARNING If you're specifying your api key in code, ensure this code is not shared publicly.\n",
      "wandb: WARNING Consider setting the WANDB_API_KEY environment variable, or running `wandb login` from the command line.\n",
      "wandb: Appending key for api.wandb.ai to your netrc file: C:\\Users\\admin\\_netrc\n"
     ]
    },
    {
     "name": "stdout",
     "output_type": "stream",
     "text": [
      "Create sweep with ID: 5ywfdq6p\n",
      "Sweep URL: https://wandb.ai/tiopirfur-uniwersytet-jagiello-ski-w-krakowie/mnist-classifier/sweeps/5ywfdq6p\n"
     ]
    },
    {
     "name": "stderr",
     "output_type": "stream",
     "text": [
      "wandb: Agent Starting Run: jmfgghre with config:\n",
      "wandb: \tbatch_size: 64\n",
      "wandb: \tlayer_1_size: 128\n",
      "wandb: \tlayer_2_size: 64\n",
      "wandb: \tlearning_rate: 0.0001\n",
      "wandb: WARNING Ignored wandb.init() arg project when running a sweep.\n"
     ]
    },
    {
     "data": {
      "text/html": [
       "Tracking run with wandb version 0.18.7"
      ],
      "text/plain": [
       "<IPython.core.display.HTML object>"
      ]
     },
     "metadata": {},
     "output_type": "display_data"
    },
    {
     "data": {
      "text/html": [
       "Run data is saved locally in <code>C:\\Users\\admin\\Documents\\GitHub\\pum-24\\wandb\\run-20250206_221320-jmfgghre</code>"
      ],
      "text/plain": [
       "<IPython.core.display.HTML object>"
      ]
     },
     "metadata": {},
     "output_type": "display_data"
    },
    {
     "data": {
      "text/html": [
       "Syncing run <strong><a href='https://wandb.ai/tiopirfur-uniwersytet-jagiello-ski-w-krakowie/mnist-classifier/runs/jmfgghre' target=\"_blank\">wandering-sweep-1</a></strong> to <a href='https://wandb.ai/tiopirfur-uniwersytet-jagiello-ski-w-krakowie/mnist-classifier' target=\"_blank\">Weights & Biases</a> (<a href='https://wandb.me/developer-guide' target=\"_blank\">docs</a>)<br/>Sweep page: <a href='https://wandb.ai/tiopirfur-uniwersytet-jagiello-ski-w-krakowie/mnist-classifier/sweeps/5ywfdq6p' target=\"_blank\">https://wandb.ai/tiopirfur-uniwersytet-jagiello-ski-w-krakowie/mnist-classifier/sweeps/5ywfdq6p</a>"
      ],
      "text/plain": [
       "<IPython.core.display.HTML object>"
      ]
     },
     "metadata": {},
     "output_type": "display_data"
    },
    {
     "data": {
      "text/html": [
       " View project at <a href='https://wandb.ai/tiopirfur-uniwersytet-jagiello-ski-w-krakowie/mnist-classifier' target=\"_blank\">https://wandb.ai/tiopirfur-uniwersytet-jagiello-ski-w-krakowie/mnist-classifier</a>"
      ],
      "text/plain": [
       "<IPython.core.display.HTML object>"
      ]
     },
     "metadata": {},
     "output_type": "display_data"
    },
    {
     "data": {
      "text/html": [
       " View sweep at <a href='https://wandb.ai/tiopirfur-uniwersytet-jagiello-ski-w-krakowie/mnist-classifier/sweeps/5ywfdq6p' target=\"_blank\">https://wandb.ai/tiopirfur-uniwersytet-jagiello-ski-w-krakowie/mnist-classifier/sweeps/5ywfdq6p</a>"
      ],
      "text/plain": [
       "<IPython.core.display.HTML object>"
      ]
     },
     "metadata": {},
     "output_type": "display_data"
    },
    {
     "data": {
      "text/html": [
       " View run at <a href='https://wandb.ai/tiopirfur-uniwersytet-jagiello-ski-w-krakowie/mnist-classifier/runs/jmfgghre' target=\"_blank\">https://wandb.ai/tiopirfur-uniwersytet-jagiello-ski-w-krakowie/mnist-classifier/runs/jmfgghre</a>"
      ],
      "text/plain": [
       "<IPython.core.display.HTML object>"
      ]
     },
     "metadata": {},
     "output_type": "display_data"
    },
    {
     "name": "stdout",
     "output_type": "stream",
     "text": [
      "Epoch: 0\n",
      "Train loss: 1.8330182556404488\n",
      "Validation loss: 1.61287693233247\n",
      "\n",
      "Epoch: 1\n",
      "Train loss: 1.592830013364617\n",
      "Validation loss: 1.5701662833523597\n",
      "\n",
      "Epoch: 2\n",
      "Train loss: 1.56731199341288\n",
      "Validation loss: 1.5560295391993917\n",
      "\n",
      "Epoch: 3\n",
      "Train loss: 1.5555449074773646\n",
      "Validation loss: 1.5485213600146543\n",
      "\n",
      "Epoch: 4\n",
      "Train loss: 1.5477880141628322\n",
      "Validation loss: 1.5435128713109691\n",
      "\n",
      "Epoch: 5\n",
      "Train loss: 1.5423184179548006\n",
      "Validation loss: 1.537726646016358\n",
      "\n",
      "Epoch: 6\n",
      "Train loss: 1.5376501964099372\n",
      "Validation loss: 1.5355113243601124\n",
      "\n",
      "Epoch: 7\n",
      "Train loss: 1.5339260058108168\n",
      "Validation loss: 1.5316124380014504\n",
      "\n",
      "Epoch: 8\n",
      "Train loss: 1.5304179964289228\n",
      "Validation loss: 1.529085102354645\n",
      "\n",
      "Epoch: 9\n",
      "Train loss: 1.5274880442029632\n",
      "Validation loss: 1.526977711422428\n",
      "\n",
      "Epoch: 10\n",
      "Train loss: 1.525071810557644\n",
      "Validation loss: 1.5249483152559609\n",
      "\n",
      "Epoch: 11\n",
      "Train loss: 1.5222881812530795\n",
      "Validation loss: 1.5234479539713282\n",
      "\n",
      "Epoch: 12\n",
      "Train loss: 1.5201744424508834\n",
      "Validation loss: 1.5210924262453795\n",
      "\n",
      "Epoch: 13\n",
      "Train loss: 1.5180764996420855\n",
      "Validation loss: 1.5198806425568405\n",
      "\n",
      "Epoch: 14\n",
      "Train loss: 1.5162528804116158\n",
      "Validation loss: 1.5188550592228105\n",
      "\n",
      "Epoch: 15\n",
      "Train loss: 1.5146375297229173\n",
      "Validation loss: 1.5175009502726755\n",
      "\n",
      "Epoch: 16\n",
      "Train loss: 1.5128232515188678\n",
      "Validation loss: 1.5165092998249516\n",
      "\n",
      "Epoch: 17\n",
      "Train loss: 1.5114438690102177\n",
      "Validation loss: 1.5148302377409237\n",
      "\n",
      "Epoch: 18\n",
      "Train loss: 1.5096909760920478\n",
      "Validation loss: 1.5146803157344746\n",
      "\n",
      "Epoch: 19\n",
      "Train loss: 1.5086447108529015\n",
      "Validation loss: 1.51393311342616\n",
      "\n",
      "Epoch: 20\n",
      "Train loss: 1.5071781057792941\n",
      "Validation loss: 1.5122026075982744\n",
      "\n",
      "Epoch: 21\n",
      "Train loss: 1.505834738837122\n",
      "Validation loss: 1.511098650610371\n",
      "\n",
      "Epoch: 22\n",
      "Train loss: 1.504555197794046\n",
      "Validation loss: 1.5105076162678421\n",
      "\n",
      "Epoch: 23\n",
      "Train loss: 1.5034774816366656\n",
      "Validation loss: 1.5092806770543383\n",
      "\n",
      "Epoch: 24\n",
      "Train loss: 1.5025246023877596\n",
      "Validation loss: 1.508536040403281\n",
      "\n",
      "Epoch: 25\n",
      "Train loss: 1.5013477757795533\n",
      "Validation loss: 1.5074951284250635\n",
      "\n",
      "Epoch: 26\n",
      "Train loss: 1.5002433473367427\n",
      "Validation loss: 1.5070928061843678\n",
      "\n",
      "Epoch: 27\n",
      "Train loss: 1.4993353442850905\n",
      "Validation loss: 1.5067275048820836\n",
      "\n",
      "Epoch: 28\n",
      "Train loss: 1.498317107335845\n",
      "Validation loss: 1.5054085140774964\n",
      "\n",
      "Epoch: 29\n",
      "Train loss: 1.4974461342734315\n",
      "Validation loss: 1.504911348318598\n",
      "\n",
      "Epoch: 30\n",
      "Train loss: 1.4965108674980685\n",
      "Validation loss: 1.5042547321623299\n",
      "\n",
      "Epoch: 31\n",
      "Train loss: 1.4956406596372884\n",
      "Validation loss: 1.5030231536573666\n",
      "\n",
      "Epoch: 32\n",
      "Train loss: 1.4947851762842777\n",
      "Validation loss: 1.5026625227776302\n",
      "\n",
      "Epoch: 33\n",
      "Train loss: 1.493950386799729\n",
      "Validation loss: 1.502329678292487\n",
      "\n",
      "Epoch: 34\n",
      "Train loss: 1.4931676662298663\n",
      "Validation loss: 1.5010881317648919\n",
      "\n",
      "Epoch: 35\n",
      "Train loss: 1.4923573766690073\n",
      "Validation loss: 1.500904767376602\n",
      "\n",
      "Epoch: 36\n",
      "Train loss: 1.4914619855280877\n",
      "Validation loss: 1.5006022559609382\n",
      "\n",
      "Epoch: 37\n",
      "Train loss: 1.4907745816814366\n",
      "Validation loss: 1.500794665828632\n",
      "\n",
      "Epoch: 38\n",
      "Train loss: 1.490186435200258\n",
      "Validation loss: 1.4994783803915521\n",
      "\n",
      "Epoch: 39\n",
      "Train loss: 1.4892953743558448\n",
      "Validation loss: 1.498963077356861\n",
      "\n",
      "Epoch: 40\n",
      "Train loss: 1.4887992781616732\n",
      "Validation loss: 1.498263514725266\n",
      "\n",
      "Epoch: 41\n",
      "Train loss: 1.4880753646273095\n",
      "Validation loss: 1.4986486564016646\n",
      "\n",
      "Epoch: 42\n",
      "Train loss: 1.4875452435855419\n",
      "Validation loss: 1.4976508594622278\n",
      "\n",
      "Epoch: 43\n",
      "Train loss: 1.4869904384684207\n",
      "Validation loss: 1.4973959558329004\n",
      "\n",
      "Epoch: 44\n",
      "Train loss: 1.4862781793578093\n",
      "Validation loss: 1.4968833627214857\n",
      "\n",
      "Epoch: 45\n",
      "Train loss: 1.4858546738685576\n",
      "Validation loss: 1.4962430486253873\n",
      "\n",
      "Epoch: 46\n",
      "Train loss: 1.4852328661408252\n",
      "Validation loss: 1.4961075554987429\n",
      "\n",
      "Epoch: 47\n",
      "Train loss: 1.484846605420875\n",
      "Validation loss: 1.4960407656469163\n",
      "\n",
      "Epoch: 48\n",
      "Train loss: 1.4842888954351705\n",
      "Validation loss: 1.4961737272845712\n",
      "\n",
      "Epoch: 49\n",
      "Train loss: 1.4837850202629561\n",
      "Validation loss: 1.495268688839712\n",
      "\n"
     ]
    },
    {
     "data": {
      "text/html": [
       "\n",
       "    <style>\n",
       "        .wandb-row {\n",
       "            display: flex;\n",
       "            flex-direction: row;\n",
       "            flex-wrap: wrap;\n",
       "            justify-content: flex-start;\n",
       "            width: 100%;\n",
       "        }\n",
       "        .wandb-col {\n",
       "            display: flex;\n",
       "            flex-direction: column;\n",
       "            flex-basis: 100%;\n",
       "            flex: 1;\n",
       "            padding: 10px;\n",
       "        }\n",
       "    </style>\n",
       "<div class=\"wandb-row\"><div class=\"wandb-col\"><h3>Run history:</h3><br/><table class=\"wandb\"><tr><td>train_loss</td><td>█▃▃▂▂▂▂▂▂▂▂▂▂▂▂▂▁▁▁▁▁▁▁▁▁▁▁▁▁▁▁▁▁▁▁▁▁▁▁▁</td></tr><tr><td>val_loss</td><td>█▅▅▄▄▃▃▃▃▃▃▂▂▂▂▂▂▂▂▂▂▂▂▂▂▂▁▁▁▁▁▁▁▁▁▁▁▁▁▁</td></tr></table><br/></div><div class=\"wandb-col\"><h3>Run summary:</h3><br/><table class=\"wandb\"><tr><td>train_loss</td><td>1.48379</td></tr><tr><td>val_loss</td><td>1.49527</td></tr></table><br/></div></div>"
      ],
      "text/plain": [
       "<IPython.core.display.HTML object>"
      ]
     },
     "metadata": {},
     "output_type": "display_data"
    },
    {
     "data": {
      "text/html": [
       " View run <strong style=\"color:#cdcd00\">wandering-sweep-1</strong> at: <a href='https://wandb.ai/tiopirfur-uniwersytet-jagiello-ski-w-krakowie/mnist-classifier/runs/jmfgghre' target=\"_blank\">https://wandb.ai/tiopirfur-uniwersytet-jagiello-ski-w-krakowie/mnist-classifier/runs/jmfgghre</a><br/> View project at: <a href='https://wandb.ai/tiopirfur-uniwersytet-jagiello-ski-w-krakowie/mnist-classifier' target=\"_blank\">https://wandb.ai/tiopirfur-uniwersytet-jagiello-ski-w-krakowie/mnist-classifier</a><br/>Synced 5 W&B file(s), 0 media file(s), 0 artifact file(s) and 0 other file(s)"
      ],
      "text/plain": [
       "<IPython.core.display.HTML object>"
      ]
     },
     "metadata": {},
     "output_type": "display_data"
    },
    {
     "data": {
      "text/html": [
       "Find logs at: <code>.\\wandb\\run-20250206_221320-jmfgghre\\logs</code>"
      ],
      "text/plain": [
       "<IPython.core.display.HTML object>"
      ]
     },
     "metadata": {},
     "output_type": "display_data"
    },
    {
     "name": "stderr",
     "output_type": "stream",
     "text": [
      "wandb: Agent Starting Run: lbkrogjc with config:\n",
      "wandb: \tbatch_size: 64\n",
      "wandb: \tlayer_1_size: 256\n",
      "wandb: \tlayer_2_size: 128\n",
      "wandb: \tlearning_rate: 0.0001\n",
      "wandb: WARNING Ignored wandb.init() arg project when running a sweep.\n"
     ]
    },
    {
     "data": {
      "text/html": [
       "Tracking run with wandb version 0.18.7"
      ],
      "text/plain": [
       "<IPython.core.display.HTML object>"
      ]
     },
     "metadata": {},
     "output_type": "display_data"
    },
    {
     "data": {
      "text/html": [
       "Run data is saved locally in <code>C:\\Users\\admin\\Documents\\GitHub\\pum-24\\wandb\\run-20250206_222220-lbkrogjc</code>"
      ],
      "text/plain": [
       "<IPython.core.display.HTML object>"
      ]
     },
     "metadata": {},
     "output_type": "display_data"
    },
    {
     "data": {
      "text/html": [
       "Syncing run <strong><a href='https://wandb.ai/tiopirfur-uniwersytet-jagiello-ski-w-krakowie/mnist-classifier/runs/lbkrogjc' target=\"_blank\">trim-sweep-2</a></strong> to <a href='https://wandb.ai/tiopirfur-uniwersytet-jagiello-ski-w-krakowie/mnist-classifier' target=\"_blank\">Weights & Biases</a> (<a href='https://wandb.me/developer-guide' target=\"_blank\">docs</a>)<br/>Sweep page: <a href='https://wandb.ai/tiopirfur-uniwersytet-jagiello-ski-w-krakowie/mnist-classifier/sweeps/5ywfdq6p' target=\"_blank\">https://wandb.ai/tiopirfur-uniwersytet-jagiello-ski-w-krakowie/mnist-classifier/sweeps/5ywfdq6p</a>"
      ],
      "text/plain": [
       "<IPython.core.display.HTML object>"
      ]
     },
     "metadata": {},
     "output_type": "display_data"
    },
    {
     "data": {
      "text/html": [
       " View project at <a href='https://wandb.ai/tiopirfur-uniwersytet-jagiello-ski-w-krakowie/mnist-classifier' target=\"_blank\">https://wandb.ai/tiopirfur-uniwersytet-jagiello-ski-w-krakowie/mnist-classifier</a>"
      ],
      "text/plain": [
       "<IPython.core.display.HTML object>"
      ]
     },
     "metadata": {},
     "output_type": "display_data"
    },
    {
     "data": {
      "text/html": [
       " View sweep at <a href='https://wandb.ai/tiopirfur-uniwersytet-jagiello-ski-w-krakowie/mnist-classifier/sweeps/5ywfdq6p' target=\"_blank\">https://wandb.ai/tiopirfur-uniwersytet-jagiello-ski-w-krakowie/mnist-classifier/sweeps/5ywfdq6p</a>"
      ],
      "text/plain": [
       "<IPython.core.display.HTML object>"
      ]
     },
     "metadata": {},
     "output_type": "display_data"
    },
    {
     "data": {
      "text/html": [
       " View run at <a href='https://wandb.ai/tiopirfur-uniwersytet-jagiello-ski-w-krakowie/mnist-classifier/runs/lbkrogjc' target=\"_blank\">https://wandb.ai/tiopirfur-uniwersytet-jagiello-ski-w-krakowie/mnist-classifier/runs/lbkrogjc</a>"
      ],
      "text/plain": [
       "<IPython.core.display.HTML object>"
      ]
     },
     "metadata": {},
     "output_type": "display_data"
    },
    {
     "name": "stdout",
     "output_type": "stream",
     "text": [
      "Epoch: 0\n",
      "Train loss: 1.753722781565652\n",
      "Validation loss: 1.5797317460843712\n",
      "\n",
      "Epoch: 1\n",
      "Train loss: 1.5691750118219014\n",
      "Validation loss: 1.5544981182001198\n",
      "\n",
      "Epoch: 2\n",
      "Train loss: 1.5518901570519406\n",
      "Validation loss: 1.544048941818772\n",
      "\n",
      "Epoch: 3\n",
      "Train loss: 1.5424963942468801\n",
      "Validation loss: 1.5374130314322794\n",
      "\n",
      "Epoch: 4\n",
      "Train loss: 1.5358560282284264\n",
      "Validation loss: 1.532337080900836\n",
      "\n",
      "Epoch: 5\n",
      "Train loss: 1.5303122643977085\n",
      "Validation loss: 1.5297438285912677\n",
      "\n",
      "Epoch: 6\n",
      "Train loss: 1.5256762064850407\n",
      "Validation loss: 1.5256003870326242\n",
      "\n",
      "Epoch: 7\n",
      "Train loss: 1.5218152082296832\n",
      "Validation loss: 1.5211587605203034\n",
      "\n",
      "Epoch: 8\n",
      "Train loss: 1.5179514605353381\n",
      "Validation loss: 1.5188435126262105\n",
      "\n",
      "Epoch: 9\n",
      "Train loss: 1.5149704344999562\n",
      "Validation loss: 1.516882263171445\n",
      "\n",
      "Epoch: 10\n",
      "Train loss: 1.512226037887622\n",
      "Validation loss: 1.5144143658838454\n",
      "\n",
      "Epoch: 11\n",
      "Train loss: 1.5094472743046563\n",
      "Validation loss: 1.5122062438612531\n",
      "\n",
      "Epoch: 12\n",
      "Train loss: 1.5071298351674192\n",
      "Validation loss: 1.5106507608085682\n",
      "\n",
      "Epoch: 13\n",
      "Train loss: 1.5050838044457344\n",
      "Validation loss: 1.5088385875058021\n",
      "\n",
      "Epoch: 14\n",
      "Train loss: 1.5031125121025135\n",
      "Validation loss: 1.5075564498354674\n",
      "\n",
      "Epoch: 15\n",
      "Train loss: 1.5012819205265817\n",
      "Validation loss: 1.5055269860917595\n",
      "\n",
      "Epoch: 16\n",
      "Train loss: 1.4996369502691826\n",
      "Validation loss: 1.5046173531538363\n",
      "\n",
      "Epoch: 17\n",
      "Train loss: 1.4981027517491565\n",
      "Validation loss: 1.5025089250248709\n",
      "\n",
      "Epoch: 18\n",
      "Train loss: 1.4965250276044997\n",
      "Validation loss: 1.5033610702320268\n",
      "\n",
      "Epoch: 19\n",
      "Train loss: 1.494929848703494\n",
      "Validation loss: 1.5017172105752739\n",
      "\n",
      "Epoch: 20\n",
      "Train loss: 1.4934263788560815\n",
      "Validation loss: 1.4994986702682107\n",
      "\n",
      "Epoch: 21\n",
      "Train loss: 1.491943268887778\n",
      "Validation loss: 1.498371972399912\n",
      "\n",
      "Epoch: 22\n",
      "Train loss: 1.490747509099273\n",
      "Validation loss: 1.4971699016109394\n",
      "\n",
      "Epoch: 23\n",
      "Train loss: 1.4893418307751736\n",
      "Validation loss: 1.4965358714389194\n",
      "\n",
      "Epoch: 24\n",
      "Train loss: 1.488094252563997\n",
      "Validation loss: 1.4957241108463069\n",
      "\n",
      "Epoch: 25\n",
      "Train loss: 1.4868234867480263\n",
      "Validation loss: 1.4950114868249103\n",
      "\n",
      "Epoch: 26\n",
      "Train loss: 1.4858708893820676\n",
      "Validation loss: 1.4944199323654175\n",
      "\n",
      "Epoch: 27\n",
      "Train loss: 1.4850162507882758\n",
      "Validation loss: 1.4939958335487706\n",
      "\n",
      "Epoch: 28\n",
      "Train loss: 1.4840129672337188\n",
      "Validation loss: 1.493305872200401\n",
      "\n",
      "Epoch: 29\n",
      "Train loss: 1.4832340590735233\n",
      "Validation loss: 1.4930211867496466\n",
      "\n",
      "Epoch: 30\n",
      "Train loss: 1.4824077644581988\n",
      "Validation loss: 1.4921097413749451\n",
      "\n",
      "Epoch: 31\n",
      "Train loss: 1.4816337739989194\n",
      "Validation loss: 1.4925783568886435\n",
      "\n",
      "Epoch: 32\n",
      "Train loss: 1.4808939450076903\n",
      "Validation loss: 1.4913521215414545\n",
      "\n",
      "Epoch: 33\n",
      "Train loss: 1.480240946893753\n",
      "Validation loss: 1.4910819363442196\n",
      "\n",
      "Epoch: 34\n",
      "Train loss: 1.4795293159830545\n",
      "Validation loss: 1.490595681652142\n",
      "\n",
      "Epoch: 35\n",
      "Train loss: 1.4789622986494606\n",
      "Validation loss: 1.4906767090414739\n",
      "\n",
      "Epoch: 36\n",
      "Train loss: 1.4784777004327347\n",
      "Validation loss: 1.4901762221269548\n",
      "\n",
      "Epoch: 37\n",
      "Train loss: 1.4780023084012175\n",
      "Validation loss: 1.4901572352002381\n",
      "\n",
      "Epoch: 38\n",
      "Train loss: 1.4774902820078804\n",
      "Validation loss: 1.4896487810049848\n",
      "\n",
      "Epoch: 39\n",
      "Train loss: 1.4771912191976617\n",
      "Validation loss: 1.4901947223456802\n",
      "\n",
      "Epoch: 40\n",
      "Train loss: 1.4767064124282234\n",
      "Validation loss: 1.4895460476541216\n",
      "\n",
      "Epoch: 41\n",
      "Train loss: 1.4763174219680493\n",
      "Validation loss: 1.4890158556069537\n",
      "\n",
      "Epoch: 42\n",
      "Train loss: 1.4759126852061957\n",
      "Validation loss: 1.4901255194548588\n",
      "\n",
      "Epoch: 43\n",
      "Train loss: 1.47549315886711\n",
      "Validation loss: 1.4886719975501868\n",
      "\n",
      "Epoch: 44\n",
      "Train loss: 1.4751942340753226\n",
      "Validation loss: 1.4888831756676837\n",
      "\n",
      "Epoch: 45\n",
      "Train loss: 1.4748252419266366\n",
      "Validation loss: 1.4881950897775638\n",
      "\n",
      "Epoch: 46\n",
      "Train loss: 1.4744760630481533\n",
      "Validation loss: 1.4883457953762855\n",
      "\n",
      "Epoch: 47\n",
      "Train loss: 1.4740203432182768\n",
      "Validation loss: 1.488620039763724\n",
      "\n",
      "Epoch: 48\n",
      "Train loss: 1.4736660740522942\n",
      "Validation loss: 1.488512860741585\n",
      "\n",
      "Epoch: 49\n",
      "Train loss: 1.4734348415820075\n",
      "Validation loss: 1.4876460748113645\n",
      "\n"
     ]
    },
    {
     "data": {
      "text/html": [
       "\n",
       "    <style>\n",
       "        .wandb-row {\n",
       "            display: flex;\n",
       "            flex-direction: row;\n",
       "            flex-wrap: wrap;\n",
       "            justify-content: flex-start;\n",
       "            width: 100%;\n",
       "        }\n",
       "        .wandb-col {\n",
       "            display: flex;\n",
       "            flex-direction: column;\n",
       "            flex-basis: 100%;\n",
       "            flex: 1;\n",
       "            padding: 10px;\n",
       "        }\n",
       "    </style>\n",
       "<div class=\"wandb-row\"><div class=\"wandb-col\"><h3>Run history:</h3><br/><table class=\"wandb\"><tr><td>train_loss</td><td>█▃▃▃▂▂▂▂▂▂▂▂▂▂▂▁▁▁▁▁▁▁▁▁▁▁▁▁▁▁▁▁▁▁▁▁▁▁▁▁</td></tr><tr><td>val_loss</td><td>█▆▅▅▄▄▄▃▃▃▃▃▃▂▂▂▂▂▂▂▂▂▁▁▁▁▁▁▁▁▁▁▁▁▁▁▁▁▁▁</td></tr></table><br/></div><div class=\"wandb-col\"><h3>Run summary:</h3><br/><table class=\"wandb\"><tr><td>train_loss</td><td>1.47343</td></tr><tr><td>val_loss</td><td>1.48765</td></tr></table><br/></div></div>"
      ],
      "text/plain": [
       "<IPython.core.display.HTML object>"
      ]
     },
     "metadata": {},
     "output_type": "display_data"
    },
    {
     "data": {
      "text/html": [
       " View run <strong style=\"color:#cdcd00\">trim-sweep-2</strong> at: <a href='https://wandb.ai/tiopirfur-uniwersytet-jagiello-ski-w-krakowie/mnist-classifier/runs/lbkrogjc' target=\"_blank\">https://wandb.ai/tiopirfur-uniwersytet-jagiello-ski-w-krakowie/mnist-classifier/runs/lbkrogjc</a><br/> View project at: <a href='https://wandb.ai/tiopirfur-uniwersytet-jagiello-ski-w-krakowie/mnist-classifier' target=\"_blank\">https://wandb.ai/tiopirfur-uniwersytet-jagiello-ski-w-krakowie/mnist-classifier</a><br/>Synced 5 W&B file(s), 0 media file(s), 0 artifact file(s) and 0 other file(s)"
      ],
      "text/plain": [
       "<IPython.core.display.HTML object>"
      ]
     },
     "metadata": {},
     "output_type": "display_data"
    },
    {
     "data": {
      "text/html": [
       "Find logs at: <code>.\\wandb\\run-20250206_222220-lbkrogjc\\logs</code>"
      ],
      "text/plain": [
       "<IPython.core.display.HTML object>"
      ]
     },
     "metadata": {},
     "output_type": "display_data"
    },
    {
     "name": "stderr",
     "output_type": "stream",
     "text": [
      "wandb: Agent Starting Run: d4ksxk4r with config:\n",
      "wandb: \tbatch_size: 32\n",
      "wandb: \tlayer_1_size: 64\n",
      "wandb: \tlayer_2_size: 64\n",
      "wandb: \tlearning_rate: 0.01\n",
      "wandb: WARNING Ignored wandb.init() arg project when running a sweep.\n"
     ]
    },
    {
     "data": {
      "text/html": [
       "Tracking run with wandb version 0.18.7"
      ],
      "text/plain": [
       "<IPython.core.display.HTML object>"
      ]
     },
     "metadata": {},
     "output_type": "display_data"
    },
    {
     "data": {
      "text/html": [
       "Run data is saved locally in <code>C:\\Users\\admin\\Documents\\GitHub\\pum-24\\wandb\\run-20250206_223335-d4ksxk4r</code>"
      ],
      "text/plain": [
       "<IPython.core.display.HTML object>"
      ]
     },
     "metadata": {},
     "output_type": "display_data"
    },
    {
     "data": {
      "text/html": [
       "Syncing run <strong><a href='https://wandb.ai/tiopirfur-uniwersytet-jagiello-ski-w-krakowie/mnist-classifier/runs/d4ksxk4r' target=\"_blank\">woven-sweep-3</a></strong> to <a href='https://wandb.ai/tiopirfur-uniwersytet-jagiello-ski-w-krakowie/mnist-classifier' target=\"_blank\">Weights & Biases</a> (<a href='https://wandb.me/developer-guide' target=\"_blank\">docs</a>)<br/>Sweep page: <a href='https://wandb.ai/tiopirfur-uniwersytet-jagiello-ski-w-krakowie/mnist-classifier/sweeps/5ywfdq6p' target=\"_blank\">https://wandb.ai/tiopirfur-uniwersytet-jagiello-ski-w-krakowie/mnist-classifier/sweeps/5ywfdq6p</a>"
      ],
      "text/plain": [
       "<IPython.core.display.HTML object>"
      ]
     },
     "metadata": {},
     "output_type": "display_data"
    },
    {
     "data": {
      "text/html": [
       " View project at <a href='https://wandb.ai/tiopirfur-uniwersytet-jagiello-ski-w-krakowie/mnist-classifier' target=\"_blank\">https://wandb.ai/tiopirfur-uniwersytet-jagiello-ski-w-krakowie/mnist-classifier</a>"
      ],
      "text/plain": [
       "<IPython.core.display.HTML object>"
      ]
     },
     "metadata": {},
     "output_type": "display_data"
    },
    {
     "data": {
      "text/html": [
       " View sweep at <a href='https://wandb.ai/tiopirfur-uniwersytet-jagiello-ski-w-krakowie/mnist-classifier/sweeps/5ywfdq6p' target=\"_blank\">https://wandb.ai/tiopirfur-uniwersytet-jagiello-ski-w-krakowie/mnist-classifier/sweeps/5ywfdq6p</a>"
      ],
      "text/plain": [
       "<IPython.core.display.HTML object>"
      ]
     },
     "metadata": {},
     "output_type": "display_data"
    },
    {
     "data": {
      "text/html": [
       " View run at <a href='https://wandb.ai/tiopirfur-uniwersytet-jagiello-ski-w-krakowie/mnist-classifier/runs/d4ksxk4r' target=\"_blank\">https://wandb.ai/tiopirfur-uniwersytet-jagiello-ski-w-krakowie/mnist-classifier/runs/d4ksxk4r</a>"
      ],
      "text/plain": [
       "<IPython.core.display.HTML object>"
      ]
     },
     "metadata": {},
     "output_type": "display_data"
    },
    {
     "name": "stdout",
     "output_type": "stream",
     "text": [
      "Epoch: 0\n",
      "Train loss: 1.6238193621953327\n",
      "Validation loss: 1.5903492491847029\n",
      "\n",
      "Epoch: 1\n",
      "Train loss: 1.6131034135182698\n",
      "Validation loss: 1.634894199264697\n",
      "\n",
      "Epoch: 2\n",
      "Train loss: 1.603383201344808\n",
      "Validation loss: 1.6480124434724022\n",
      "\n",
      "Epoch: 3\n",
      "Train loss: 1.6043513891220094\n",
      "Validation loss: 1.5787897997389968\n",
      "\n",
      "Epoch: 4\n",
      "Train loss: 1.6040174538930256\n",
      "Validation loss: 1.6226596508544093\n",
      "\n",
      "Epoch: 5\n",
      "Train loss: 1.617788630549113\n",
      "Validation loss: 1.5833045526053577\n",
      "\n",
      "Epoch: 6\n",
      "Train loss: 1.6142090279261272\n",
      "Validation loss: 1.6650084717966878\n",
      "\n",
      "Epoch: 7\n",
      "Train loss: 1.6460045525232951\n",
      "Validation loss: 1.7000566656216265\n",
      "\n",
      "Epoch: 8\n",
      "Train loss: 1.6218982866923015\n",
      "Validation loss: 1.6216414835506354\n",
      "\n",
      "Epoch: 9\n",
      "Train loss: 1.6061293784459432\n",
      "Validation loss: 1.5762434580836433\n",
      "\n",
      "Epoch: 10\n",
      "Train loss: 1.6233230474472047\n",
      "Validation loss: 1.7085745707868387\n",
      "\n",
      "Epoch: 11\n",
      "Train loss: 1.6101199855804444\n",
      "Validation loss: 1.569424269298395\n",
      "\n",
      "Epoch: 12\n",
      "Train loss: 1.6122489212036133\n",
      "Validation loss: 1.5882759707423444\n",
      "\n",
      "Epoch: 13\n",
      "Train loss: 1.6028867073694866\n",
      "Validation loss: 1.5912126116097545\n",
      "\n",
      "Epoch: 14\n",
      "Train loss: 1.611415511194865\n",
      "Validation loss: 1.5784093130129975\n",
      "\n",
      "Epoch: 15\n",
      "Train loss: 1.6149016405105592\n",
      "Validation loss: 1.5995441359072067\n",
      "\n",
      "Epoch: 16\n",
      "Train loss: 1.6011304099400838\n",
      "Validation loss: 1.595584750175476\n",
      "\n",
      "Epoch: 17\n",
      "Train loss: 1.6531216969807943\n",
      "Validation loss: 1.6292019377882108\n",
      "\n",
      "Epoch: 18\n",
      "Train loss: 1.6148491239547729\n",
      "Validation loss: 1.5871192883378782\n",
      "\n",
      "Epoch: 19\n",
      "Train loss: 1.6116937763849895\n",
      "Validation loss: 1.6153059161890049\n",
      "\n",
      "Epoch: 20\n",
      "Train loss: 1.6091876492818196\n",
      "Validation loss: 1.6344698995066147\n",
      "\n",
      "Epoch: 21\n",
      "Train loss: 1.6377722285588583\n",
      "Validation loss: 1.6425117418027153\n",
      "\n",
      "Epoch: 22\n",
      "Train loss: 1.6337301006952922\n",
      "Validation loss: 1.7095751880456844\n",
      "\n",
      "Epoch: 23\n",
      "Train loss: 1.6243826082865398\n",
      "Validation loss: 1.6352079188861786\n",
      "\n",
      "Epoch: 24\n",
      "Train loss: 1.6112621648788452\n",
      "Validation loss: 1.570279605853291\n",
      "\n",
      "Epoch: 25\n",
      "Train loss: 1.627293438657125\n",
      "Validation loss: 1.6501922618847686\n",
      "\n",
      "Epoch: 26\n",
      "Train loss: 1.627830853398641\n",
      "Validation loss: 1.5824712587240786\n",
      "\n",
      "Epoch: 27\n",
      "Train loss: 1.6044716585159302\n",
      "Validation loss: 1.5985170629458687\n",
      "\n",
      "Epoch: 28\n",
      "Train loss: 1.6273653392155965\n",
      "Validation loss: 1.6113843620775608\n",
      "\n",
      "Epoch: 29\n",
      "Train loss: 1.6106821229934691\n",
      "Validation loss: 1.5997528249082473\n",
      "\n",
      "Epoch: 30\n",
      "Train loss: 1.6013980033238728\n",
      "Validation loss: 1.612008417376314\n",
      "\n",
      "Epoch: 31\n",
      "Train loss: 1.6336535449345906\n",
      "Validation loss: 1.621837537890425\n",
      "\n",
      "Epoch: 32\n",
      "Train loss: 1.62912476978302\n",
      "Validation loss: 1.5904590192313393\n",
      "\n",
      "Epoch: 33\n",
      "Train loss: 1.593736059697469\n",
      "Validation loss: 1.6083244256699047\n",
      "\n",
      "Epoch: 34\n",
      "Train loss: 1.6281832207361857\n",
      "Validation loss: 1.6311316939588554\n",
      "\n",
      "Epoch: 35\n",
      "Train loss: 1.662770389620463\n",
      "Validation loss: 1.681139792878026\n",
      "\n",
      "Epoch: 36\n",
      "Train loss: 1.6402500546137493\n",
      "Validation loss: 1.5958269552681774\n",
      "\n",
      "Epoch: 37\n",
      "Train loss: 1.5994002283732096\n",
      "Validation loss: 1.6207162575980725\n",
      "\n",
      "Epoch: 38\n",
      "Train loss: 1.6005488350550334\n",
      "Validation loss: 1.6130808332857614\n",
      "\n",
      "Epoch: 39\n",
      "Train loss: 1.6126463022867839\n",
      "Validation loss: 1.5944357718141695\n",
      "\n",
      "Epoch: 40\n",
      "Train loss: 1.6031093421936036\n",
      "Validation loss: 1.6498463850813552\n",
      "\n",
      "Epoch: 41\n",
      "Train loss: 1.6156752103805543\n",
      "Validation loss: 1.6041205588240213\n",
      "\n",
      "Epoch: 42\n",
      "Train loss: 1.6004766979853313\n",
      "Validation loss: 1.6025225967644883\n",
      "\n",
      "Epoch: 43\n",
      "Train loss: 1.6219963670094808\n",
      "Validation loss: 1.647071897793121\n",
      "\n",
      "Epoch: 44\n",
      "Train loss: 1.6283538272857665\n",
      "Validation loss: 1.592446784622753\n",
      "\n",
      "Epoch: 45\n",
      "Train loss: 1.5980869802474975\n",
      "Validation loss: 1.582356227091707\n",
      "\n",
      "Epoch: 46\n",
      "Train loss: 1.6058537637074788\n",
      "Validation loss: 1.6311443111005302\n",
      "\n",
      "Epoch: 47\n",
      "Train loss: 1.6597490002950033\n",
      "Validation loss: 1.7027736506142175\n",
      "\n",
      "Epoch: 48\n",
      "Train loss: 1.6516584568023682\n",
      "Validation loss: 1.6233646469756056\n",
      "\n",
      "Epoch: 49\n",
      "Train loss: 1.604814469718933\n",
      "Validation loss: 1.6420608317128385\n",
      "\n"
     ]
    },
    {
     "data": {
      "text/html": [
       "\n",
       "    <style>\n",
       "        .wandb-row {\n",
       "            display: flex;\n",
       "            flex-direction: row;\n",
       "            flex-wrap: wrap;\n",
       "            justify-content: flex-start;\n",
       "            width: 100%;\n",
       "        }\n",
       "        .wandb-col {\n",
       "            display: flex;\n",
       "            flex-direction: column;\n",
       "            flex-basis: 100%;\n",
       "            flex: 1;\n",
       "            padding: 10px;\n",
       "        }\n",
       "    </style>\n",
       "<div class=\"wandb-row\"><div class=\"wandb-col\"><h3>Run history:</h3><br/><table class=\"wandb\"><tr><td>train_loss</td><td>▄▃▂▂▂▆▄▂▄▃▂▃▃▂▇▃▃▅▅▄▄▄▂▄▃▅▅▁▄█▂▂▃▂▃▅▁▂█▂</td></tr><tr><td>val_loss</td><td>▂▄▅▁▄▆█▄▁█▂▂▁▂▂▂▃▄▅█▁▅▂▂▃▃▄▂▃▄▂▄▃▂▃▅▂▂▄▅</td></tr></table><br/></div><div class=\"wandb-col\"><h3>Run summary:</h3><br/><table class=\"wandb\"><tr><td>train_loss</td><td>1.60481</td></tr><tr><td>val_loss</td><td>1.64206</td></tr></table><br/></div></div>"
      ],
      "text/plain": [
       "<IPython.core.display.HTML object>"
      ]
     },
     "metadata": {},
     "output_type": "display_data"
    },
    {
     "data": {
      "text/html": [
       " View run <strong style=\"color:#cdcd00\">woven-sweep-3</strong> at: <a href='https://wandb.ai/tiopirfur-uniwersytet-jagiello-ski-w-krakowie/mnist-classifier/runs/d4ksxk4r' target=\"_blank\">https://wandb.ai/tiopirfur-uniwersytet-jagiello-ski-w-krakowie/mnist-classifier/runs/d4ksxk4r</a><br/> View project at: <a href='https://wandb.ai/tiopirfur-uniwersytet-jagiello-ski-w-krakowie/mnist-classifier' target=\"_blank\">https://wandb.ai/tiopirfur-uniwersytet-jagiello-ski-w-krakowie/mnist-classifier</a><br/>Synced 5 W&B file(s), 0 media file(s), 0 artifact file(s) and 0 other file(s)"
      ],
      "text/plain": [
       "<IPython.core.display.HTML object>"
      ]
     },
     "metadata": {},
     "output_type": "display_data"
    },
    {
     "data": {
      "text/html": [
       "Find logs at: <code>.\\wandb\\run-20250206_223335-d4ksxk4r\\logs</code>"
      ],
      "text/plain": [
       "<IPython.core.display.HTML object>"
      ]
     },
     "metadata": {},
     "output_type": "display_data"
    },
    {
     "name": "stderr",
     "output_type": "stream",
     "text": [
      "wandb: Agent Starting Run: nquu2vun with config:\n",
      "wandb: \tbatch_size: 32\n",
      "wandb: \tlayer_1_size: 128\n",
      "wandb: \tlayer_2_size: 128\n",
      "wandb: \tlearning_rate: 0.01\n",
      "wandb: WARNING Ignored wandb.init() arg project when running a sweep.\n"
     ]
    },
    {
     "data": {
      "text/html": [
       "Tracking run with wandb version 0.18.7"
      ],
      "text/plain": [
       "<IPython.core.display.HTML object>"
      ]
     },
     "metadata": {},
     "output_type": "display_data"
    },
    {
     "data": {
      "text/html": [
       "Run data is saved locally in <code>C:\\Users\\admin\\Documents\\GitHub\\pum-24\\wandb\\run-20250206_224806-nquu2vun</code>"
      ],
      "text/plain": [
       "<IPython.core.display.HTML object>"
      ]
     },
     "metadata": {},
     "output_type": "display_data"
    },
    {
     "data": {
      "text/html": [
       "Syncing run <strong><a href='https://wandb.ai/tiopirfur-uniwersytet-jagiello-ski-w-krakowie/mnist-classifier/runs/nquu2vun' target=\"_blank\">polar-sweep-4</a></strong> to <a href='https://wandb.ai/tiopirfur-uniwersytet-jagiello-ski-w-krakowie/mnist-classifier' target=\"_blank\">Weights & Biases</a> (<a href='https://wandb.me/developer-guide' target=\"_blank\">docs</a>)<br/>Sweep page: <a href='https://wandb.ai/tiopirfur-uniwersytet-jagiello-ski-w-krakowie/mnist-classifier/sweeps/5ywfdq6p' target=\"_blank\">https://wandb.ai/tiopirfur-uniwersytet-jagiello-ski-w-krakowie/mnist-classifier/sweeps/5ywfdq6p</a>"
      ],
      "text/plain": [
       "<IPython.core.display.HTML object>"
      ]
     },
     "metadata": {},
     "output_type": "display_data"
    },
    {
     "data": {
      "text/html": [
       " View project at <a href='https://wandb.ai/tiopirfur-uniwersytet-jagiello-ski-w-krakowie/mnist-classifier' target=\"_blank\">https://wandb.ai/tiopirfur-uniwersytet-jagiello-ski-w-krakowie/mnist-classifier</a>"
      ],
      "text/plain": [
       "<IPython.core.display.HTML object>"
      ]
     },
     "metadata": {},
     "output_type": "display_data"
    },
    {
     "data": {
      "text/html": [
       " View sweep at <a href='https://wandb.ai/tiopirfur-uniwersytet-jagiello-ski-w-krakowie/mnist-classifier/sweeps/5ywfdq6p' target=\"_blank\">https://wandb.ai/tiopirfur-uniwersytet-jagiello-ski-w-krakowie/mnist-classifier/sweeps/5ywfdq6p</a>"
      ],
      "text/plain": [
       "<IPython.core.display.HTML object>"
      ]
     },
     "metadata": {},
     "output_type": "display_data"
    },
    {
     "data": {
      "text/html": [
       " View run at <a href='https://wandb.ai/tiopirfur-uniwersytet-jagiello-ski-w-krakowie/mnist-classifier/runs/nquu2vun' target=\"_blank\">https://wandb.ai/tiopirfur-uniwersytet-jagiello-ski-w-krakowie/mnist-classifier/runs/nquu2vun</a>"
      ],
      "text/plain": [
       "<IPython.core.display.HTML object>"
      ]
     },
     "metadata": {},
     "output_type": "display_data"
    },
    {
     "name": "stdout",
     "output_type": "stream",
     "text": [
      "Epoch: 0\n",
      "Train loss: 1.7747350193659464\n",
      "Validation loss: 1.7724150929588098\n",
      "\n",
      "Epoch: 1\n",
      "Train loss: 1.7290997013727825\n",
      "Validation loss: 1.7760767456822502\n",
      "\n",
      "Epoch: 2\n",
      "Train loss: 1.7971982798894246\n",
      "Validation loss: 1.7363754225234254\n",
      "\n",
      "Epoch: 3\n",
      "Train loss: 1.745323506609599\n",
      "Validation loss: 1.7446280474099107\n",
      "\n",
      "Epoch: 4\n",
      "Train loss: 1.7370674648920694\n",
      "Validation loss: 1.8000388434900643\n",
      "\n",
      "Epoch: 5\n",
      "Train loss: 1.7579661600748697\n",
      "Validation loss: 1.6962583148822237\n",
      "\n",
      "Epoch: 6\n",
      "Train loss: 1.736073620859782\n",
      "Validation loss: 1.7401148968230422\n",
      "\n",
      "Epoch: 7\n",
      "Train loss: 1.7178121213912965\n",
      "Validation loss: 1.7100077128638855\n",
      "\n",
      "Epoch: 8\n",
      "Train loss: 1.7527514957427979\n",
      "Validation loss: 1.7024467555097877\n",
      "\n",
      "Epoch: 9\n",
      "Train loss: 1.7697808001836142\n",
      "Validation loss: 1.7673711350169807\n",
      "\n",
      "Epoch: 10\n",
      "Train loss: 1.73181722462972\n",
      "Validation loss: 1.7013069688321683\n",
      "\n",
      "Epoch: 11\n",
      "Train loss: 1.7318637670516968\n",
      "Validation loss: 1.757233631115752\n",
      "\n",
      "Epoch: 12\n",
      "Train loss: 1.7185816254933675\n",
      "Validation loss: 1.702223112788825\n",
      "\n",
      "Epoch: 13\n",
      "Train loss: 1.7368346767425538\n",
      "Validation loss: 1.7910154981735034\n",
      "\n",
      "Epoch: 14\n",
      "Train loss: 1.690855877685547\n",
      "Validation loss: 1.6576537507029767\n",
      "\n",
      "Epoch: 15\n",
      "Train loss: 1.6668608924865722\n",
      "Validation loss: 1.800021152907667\n",
      "\n",
      "Epoch: 16\n",
      "Train loss: 1.7773320696512858\n",
      "Validation loss: 1.7859131360587222\n",
      "\n",
      "Epoch: 17\n",
      "Train loss: 1.7967245260238647\n",
      "Validation loss: 1.750634446692543\n",
      "\n",
      "Epoch: 18\n",
      "Train loss: 1.7932547152837117\n",
      "Validation loss: 1.8108524160263257\n",
      "\n",
      "Epoch: 19\n",
      "Train loss: 1.7606835570653279\n",
      "Validation loss: 1.7268243993813999\n",
      "\n",
      "Epoch: 20\n",
      "Train loss: 1.7027283394495647\n",
      "Validation loss: 1.7123336765331962\n",
      "\n",
      "Epoch: 21\n",
      "Train loss: 1.7359982730229695\n",
      "Validation loss: 1.7043966934703791\n",
      "\n",
      "Epoch: 22\n",
      "Train loss: 1.7621228872299195\n",
      "Validation loss: 1.818905711935732\n",
      "\n",
      "Epoch: 23\n",
      "Train loss: 1.7268761261622112\n",
      "Validation loss: 1.7192333761495524\n",
      "\n",
      "Epoch: 24\n",
      "Train loss: 1.746548067855835\n",
      "Validation loss: 1.7095504054627098\n",
      "\n",
      "Epoch: 25\n",
      "Train loss: 1.7118912073135375\n",
      "Validation loss: 1.7241418837739255\n",
      "\n",
      "Epoch: 26\n",
      "Train loss: 1.6797167680104574\n",
      "Validation loss: 1.6575986097415034\n",
      "\n",
      "Epoch: 27\n",
      "Train loss: 1.6597217557271322\n",
      "Validation loss: 1.7072539413318086\n",
      "\n",
      "Epoch: 28\n",
      "Train loss: 1.8348668514887492\n",
      "Validation loss: 1.812733499386821\n",
      "\n",
      "Epoch: 29\n",
      "Train loss: 1.800883015950521\n",
      "Validation loss: 1.8082926616120263\n",
      "\n",
      "Epoch: 30\n",
      "Train loss: 1.761666653505961\n",
      "Validation loss: 1.7190821254596163\n",
      "\n",
      "Epoch: 31\n",
      "Train loss: 1.6857106084823608\n",
      "Validation loss: 1.687771043457543\n",
      "\n",
      "Epoch: 32\n",
      "Train loss: 1.6756303518295288\n",
      "Validation loss: 1.664225501755175\n",
      "\n",
      "Epoch: 33\n",
      "Train loss: 1.6542940520604452\n",
      "Validation loss: 1.6338739292309308\n",
      "\n",
      "Epoch: 34\n",
      "Train loss: 1.6699255767186483\n",
      "Validation loss: 1.711747289084779\n",
      "\n",
      "Epoch: 35\n",
      "Train loss: 1.7430927822113038\n",
      "Validation loss: 1.7074557291433072\n",
      "\n",
      "Epoch: 36\n",
      "Train loss: 1.793871274693807\n",
      "Validation loss: 1.8518890668028078\n",
      "\n",
      "Epoch: 37\n",
      "Train loss: 1.8412095220565796\n",
      "Validation loss: 1.7999066468625784\n",
      "\n",
      "Epoch: 38\n",
      "Train loss: 1.7501337353388469\n",
      "Validation loss: 1.771952874363421\n",
      "\n",
      "Epoch: 39\n",
      "Train loss: 1.7858334932963054\n",
      "Validation loss: 1.774648576117933\n",
      "\n",
      "Epoch: 40\n",
      "Train loss: 1.7352244679133098\n",
      "Validation loss: 1.6673355483399412\n",
      "\n",
      "Epoch: 41\n",
      "Train loss: 1.7450699584960938\n",
      "Validation loss: 1.7982372586338664\n",
      "\n",
      "Epoch: 42\n",
      "Train loss: 1.7094866008758545\n",
      "Validation loss: 1.7212354710307747\n",
      "\n",
      "Epoch: 43\n",
      "Train loss: 1.6576035327275593\n",
      "Validation loss: 1.6182025153035173\n",
      "\n",
      "Epoch: 44\n",
      "Train loss: 1.66262898273468\n",
      "Validation loss: 1.6853044600532459\n",
      "\n",
      "Epoch: 45\n",
      "Train loss: 1.679028213119507\n",
      "Validation loss: 1.6565375628943642\n",
      "\n",
      "Epoch: 46\n",
      "Train loss: 1.7190053467432658\n",
      "Validation loss: 1.7170168850749445\n",
      "\n",
      "Epoch: 47\n",
      "Train loss: 1.7516933453877768\n",
      "Validation loss: 1.7456948943793202\n",
      "\n",
      "Epoch: 48\n",
      "Train loss: 1.7393649518966674\n",
      "Validation loss: 1.790523172948307\n",
      "\n",
      "Epoch: 49\n",
      "Train loss: 1.8040693640391032\n",
      "Validation loss: 1.8050000968451698\n",
      "\n"
     ]
    },
    {
     "data": {
      "text/html": [
       "\n",
       "    <style>\n",
       "        .wandb-row {\n",
       "            display: flex;\n",
       "            flex-direction: row;\n",
       "            flex-wrap: wrap;\n",
       "            justify-content: flex-start;\n",
       "            width: 100%;\n",
       "        }\n",
       "        .wandb-col {\n",
       "            display: flex;\n",
       "            flex-direction: column;\n",
       "            flex-basis: 100%;\n",
       "            flex: 1;\n",
       "            padding: 10px;\n",
       "        }\n",
       "    </style>\n",
       "<div class=\"wandb-row\"><div class=\"wandb-col\"><h3>Run history:</h3><br/><table class=\"wandb\"><tr><td>train_loss</td><td>▆▄▆▄▄▄▃▅▄▄▄▂▁▆▆▅▃▄▅▄▃▂▁█▆▂▂▁▂▄█▅▆▄▄▁▁▂▃▇</td></tr><tr><td>val_loss</td><td>▆▇▅▅▇▅▄▄▆▄▄▇▂▇▇█▅▄█▅▅▂▄██▃▃▂▄▄▇▆▆▃▇▁▂▄▅█</td></tr></table><br/></div><div class=\"wandb-col\"><h3>Run summary:</h3><br/><table class=\"wandb\"><tr><td>train_loss</td><td>1.80407</td></tr><tr><td>val_loss</td><td>1.805</td></tr></table><br/></div></div>"
      ],
      "text/plain": [
       "<IPython.core.display.HTML object>"
      ]
     },
     "metadata": {},
     "output_type": "display_data"
    },
    {
     "data": {
      "text/html": [
       " View run <strong style=\"color:#cdcd00\">polar-sweep-4</strong> at: <a href='https://wandb.ai/tiopirfur-uniwersytet-jagiello-ski-w-krakowie/mnist-classifier/runs/nquu2vun' target=\"_blank\">https://wandb.ai/tiopirfur-uniwersytet-jagiello-ski-w-krakowie/mnist-classifier/runs/nquu2vun</a><br/> View project at: <a href='https://wandb.ai/tiopirfur-uniwersytet-jagiello-ski-w-krakowie/mnist-classifier' target=\"_blank\">https://wandb.ai/tiopirfur-uniwersytet-jagiello-ski-w-krakowie/mnist-classifier</a><br/>Synced 5 W&B file(s), 0 media file(s), 0 artifact file(s) and 0 other file(s)"
      ],
      "text/plain": [
       "<IPython.core.display.HTML object>"
      ]
     },
     "metadata": {},
     "output_type": "display_data"
    },
    {
     "data": {
      "text/html": [
       "Find logs at: <code>.\\wandb\\run-20250206_224806-nquu2vun\\logs</code>"
      ],
      "text/plain": [
       "<IPython.core.display.HTML object>"
      ]
     },
     "metadata": {},
     "output_type": "display_data"
    },
    {
     "name": "stderr",
     "output_type": "stream",
     "text": [
      "wandb: Agent Starting Run: c03qeuya with config:\n",
      "wandb: \tbatch_size: 64\n",
      "wandb: \tlayer_1_size: 64\n",
      "wandb: \tlayer_2_size: 64\n",
      "wandb: \tlearning_rate: 0.01\n",
      "wandb: WARNING Ignored wandb.init() arg project when running a sweep.\n"
     ]
    },
    {
     "data": {
      "text/html": [
       "Tracking run with wandb version 0.18.7"
      ],
      "text/plain": [
       "<IPython.core.display.HTML object>"
      ]
     },
     "metadata": {},
     "output_type": "display_data"
    },
    {
     "data": {
      "text/html": [
       "Run data is saved locally in <code>C:\\Users\\admin\\Documents\\GitHub\\pum-24\\wandb\\run-20250206_231051-c03qeuya</code>"
      ],
      "text/plain": [
       "<IPython.core.display.HTML object>"
      ]
     },
     "metadata": {},
     "output_type": "display_data"
    },
    {
     "data": {
      "text/html": [
       "Syncing run <strong><a href='https://wandb.ai/tiopirfur-uniwersytet-jagiello-ski-w-krakowie/mnist-classifier/runs/c03qeuya' target=\"_blank\">fancy-sweep-5</a></strong> to <a href='https://wandb.ai/tiopirfur-uniwersytet-jagiello-ski-w-krakowie/mnist-classifier' target=\"_blank\">Weights & Biases</a> (<a href='https://wandb.me/developer-guide' target=\"_blank\">docs</a>)<br/>Sweep page: <a href='https://wandb.ai/tiopirfur-uniwersytet-jagiello-ski-w-krakowie/mnist-classifier/sweeps/5ywfdq6p' target=\"_blank\">https://wandb.ai/tiopirfur-uniwersytet-jagiello-ski-w-krakowie/mnist-classifier/sweeps/5ywfdq6p</a>"
      ],
      "text/plain": [
       "<IPython.core.display.HTML object>"
      ]
     },
     "metadata": {},
     "output_type": "display_data"
    },
    {
     "data": {
      "text/html": [
       " View project at <a href='https://wandb.ai/tiopirfur-uniwersytet-jagiello-ski-w-krakowie/mnist-classifier' target=\"_blank\">https://wandb.ai/tiopirfur-uniwersytet-jagiello-ski-w-krakowie/mnist-classifier</a>"
      ],
      "text/plain": [
       "<IPython.core.display.HTML object>"
      ]
     },
     "metadata": {},
     "output_type": "display_data"
    },
    {
     "data": {
      "text/html": [
       " View sweep at <a href='https://wandb.ai/tiopirfur-uniwersytet-jagiello-ski-w-krakowie/mnist-classifier/sweeps/5ywfdq6p' target=\"_blank\">https://wandb.ai/tiopirfur-uniwersytet-jagiello-ski-w-krakowie/mnist-classifier/sweeps/5ywfdq6p</a>"
      ],
      "text/plain": [
       "<IPython.core.display.HTML object>"
      ]
     },
     "metadata": {},
     "output_type": "display_data"
    },
    {
     "data": {
      "text/html": [
       " View run at <a href='https://wandb.ai/tiopirfur-uniwersytet-jagiello-ski-w-krakowie/mnist-classifier/runs/c03qeuya' target=\"_blank\">https://wandb.ai/tiopirfur-uniwersytet-jagiello-ski-w-krakowie/mnist-classifier/runs/c03qeuya</a>"
      ],
      "text/plain": [
       "<IPython.core.display.HTML object>"
      ]
     },
     "metadata": {},
     "output_type": "display_data"
    },
    {
     "name": "stdout",
     "output_type": "stream",
     "text": [
      "Epoch: 0\n",
      "Train loss: 1.5904198225373145\n",
      "Validation loss: 1.541818867063826\n",
      "\n",
      "Epoch: 1\n",
      "Train loss: 1.5574693920007392\n",
      "Validation loss: 1.549976559960918\n",
      "\n",
      "Epoch: 2\n",
      "Train loss: 1.5729421403870654\n",
      "Validation loss: 1.5815258238725602\n",
      "\n",
      "Epoch: 3\n",
      "Train loss: 1.5734366718639952\n",
      "Validation loss: 1.6139590884469877\n",
      "\n",
      "Epoch: 4\n",
      "Train loss: 1.5787695590366941\n",
      "Validation loss: 1.5565626021403416\n",
      "\n",
      "Epoch: 5\n",
      "Train loss: 1.5833180298937408\n",
      "Validation loss: 1.5632797244248118\n",
      "\n",
      "Epoch: 6\n",
      "Train loss: 1.5761431547116116\n",
      "Validation loss: 1.5712038172278435\n",
      "\n",
      "Epoch: 7\n",
      "Train loss: 1.5664690618576018\n",
      "Validation loss: 1.5497939442373385\n",
      "\n",
      "Epoch: 8\n",
      "Train loss: 1.5736687448995708\n",
      "Validation loss: 1.5572668777149954\n",
      "\n",
      "Epoch: 9\n",
      "Train loss: 1.5738691377487264\n",
      "Validation loss: 1.5588685258938249\n",
      "\n",
      "Epoch: 10\n",
      "Train loss: 1.573873309311328\n",
      "Validation loss: 1.5784822489805281\n",
      "\n",
      "Epoch: 11\n",
      "Train loss: 1.5893724216326977\n",
      "Validation loss: 1.5476619354478873\n",
      "\n",
      "Epoch: 12\n",
      "Train loss: 1.5827472988984732\n",
      "Validation loss: 1.5788025711752047\n",
      "\n",
      "Epoch: 13\n",
      "Train loss: 1.5746672195412204\n",
      "Validation loss: 1.5471335657083305\n",
      "\n",
      "Epoch: 14\n",
      "Train loss: 1.5786547911192563\n",
      "Validation loss: 1.5964745298312728\n",
      "\n",
      "Epoch: 15\n",
      "Train loss: 1.5771238866137034\n",
      "Validation loss: 1.579678347915601\n",
      "\n",
      "Epoch: 16\n",
      "Train loss: 1.5793116156226281\n",
      "Validation loss: 1.570056512856939\n",
      "\n",
      "Epoch: 17\n",
      "Train loss: 1.5729196666400316\n",
      "Validation loss: 1.593034857397626\n",
      "\n",
      "Epoch: 18\n",
      "Train loss: 1.5866838569071755\n",
      "Validation loss: 1.590290617790951\n",
      "\n",
      "Epoch: 19\n",
      "Train loss: 1.5717694154426234\n",
      "Validation loss: 1.583401440055507\n",
      "\n",
      "Epoch: 20\n",
      "Train loss: 1.568725851044726\n",
      "Validation loss: 1.5542681543690384\n",
      "\n",
      "Epoch: 21\n",
      "Train loss: 1.569921311666208\n",
      "Validation loss: 1.584076106168662\n",
      "\n",
      "Epoch: 22\n",
      "Train loss: 1.5672154143166694\n",
      "Validation loss: 1.5601549330790332\n",
      "\n",
      "Epoch: 23\n",
      "Train loss: 1.5700680091182815\n",
      "Validation loss: 1.574493913893487\n",
      "\n",
      "Epoch: 24\n",
      "Train loss: 1.5789621148282276\n",
      "Validation loss: 1.5469488588867673\n",
      "\n",
      "Epoch: 25\n",
      "Train loss: 1.5818550619743525\n",
      "Validation loss: 1.5577969733317187\n",
      "\n",
      "Epoch: 26\n",
      "Train loss: 1.5639384343171678\n",
      "Validation loss: 1.5989952915033716\n",
      "\n",
      "Epoch: 27\n",
      "Train loss: 1.558249370884031\n",
      "Validation loss: 1.5453817533079985\n",
      "\n",
      "Epoch: 28\n",
      "Train loss: 1.5871697163531013\n",
      "Validation loss: 1.5719278830631522\n",
      "\n",
      "Epoch: 29\n",
      "Train loss: 1.571601582869792\n",
      "Validation loss: 1.6051143202812048\n",
      "\n",
      "Epoch: 30\n",
      "Train loss: 1.5816790331909651\n",
      "Validation loss: 1.573179999734186\n",
      "\n",
      "Epoch: 31\n",
      "Train loss: 1.5790029122377\n",
      "Validation loss: 1.601417087445593\n",
      "\n",
      "Epoch: 32\n",
      "Train loss: 1.563712475777689\n",
      "Validation loss: 1.5716605680004048\n",
      "\n",
      "Epoch: 33\n",
      "Train loss: 1.5703811955604472\n",
      "Validation loss: 1.5497189213515847\n",
      "\n",
      "Epoch: 34\n",
      "Train loss: 1.55465134120445\n",
      "Validation loss: 1.5607564472089148\n",
      "\n",
      "Epoch: 35\n",
      "Train loss: 1.559663547635841\n",
      "Validation loss: 1.5517353647074121\n",
      "\n",
      "Epoch: 36\n",
      "Train loss: 1.554844506259666\n",
      "Validation loss: 1.5606076983129902\n",
      "\n",
      "Epoch: 37\n",
      "Train loss: 1.5764378862086135\n",
      "Validation loss: 1.5667467899383254\n",
      "\n",
      "Epoch: 38\n",
      "Train loss: 1.5952773964735492\n",
      "Validation loss: 1.6471445742686084\n",
      "\n",
      "Epoch: 39\n",
      "Train loss: 1.6000584686742916\n",
      "Validation loss: 1.5700228411680575\n",
      "\n",
      "Epoch: 40\n",
      "Train loss: 1.5751881943836903\n",
      "Validation loss: 1.5860543083992733\n",
      "\n",
      "Epoch: 41\n",
      "Train loss: 1.5815714510010759\n",
      "Validation loss: 1.5831141464269844\n",
      "\n",
      "Epoch: 42\n",
      "Train loss: 1.562537844755502\n",
      "Validation loss: 1.5747616207523711\n",
      "\n",
      "Epoch: 43\n",
      "Train loss: 1.602809155419437\n",
      "Validation loss: 1.5810028633494286\n",
      "\n",
      "Epoch: 44\n",
      "Train loss: 1.6191422282251469\n",
      "Validation loss: 1.6529372300312017\n",
      "\n",
      "Epoch: 45\n",
      "Train loss: 1.599809944756758\n",
      "Validation loss: 1.6217604807228039\n",
      "\n",
      "Epoch: 46\n",
      "Train loss: 1.5897000073624064\n",
      "Validation loss: 1.6058089945726335\n",
      "\n",
      "Epoch: 47\n",
      "Train loss: 1.589130914541704\n",
      "Validation loss: 1.566741071688901\n",
      "\n",
      "Epoch: 48\n",
      "Train loss: 1.5836270282517617\n",
      "Validation loss: 1.5656410789793465\n",
      "\n",
      "Epoch: 49\n",
      "Train loss: 1.5712680534513266\n",
      "Validation loss: 1.6280194080559311\n",
      "\n"
     ]
    },
    {
     "data": {
      "text/html": [
       "\n",
       "    <style>\n",
       "        .wandb-row {\n",
       "            display: flex;\n",
       "            flex-direction: row;\n",
       "            flex-wrap: wrap;\n",
       "            justify-content: flex-start;\n",
       "            width: 100%;\n",
       "        }\n",
       "        .wandb-col {\n",
       "            display: flex;\n",
       "            flex-direction: column;\n",
       "            flex-basis: 100%;\n",
       "            flex: 1;\n",
       "            padding: 10px;\n",
       "        }\n",
       "    </style>\n",
       "<div class=\"wandb-row\"><div class=\"wandb-col\"><h3>Run history:</h3><br/><table class=\"wandb\"><tr><td>train_loss</td><td>▅▁▃▃▄▃▂▃▃▅▃▃▄▃▄▃▃▂▃▄▂▁▅▃▄▂▃▁▂▁▅▆▃▄▂█▆▅▅▃</td></tr><tr><td>val_loss</td><td>▁▂▄▆▂▃▂▂▂▃▃▁▄▃▄▄▂▄▂▃▂▅▁▃▅▃▁▂▂▂█▃▄▄▃█▆▅▃▆</td></tr></table><br/></div><div class=\"wandb-col\"><h3>Run summary:</h3><br/><table class=\"wandb\"><tr><td>train_loss</td><td>1.57127</td></tr><tr><td>val_loss</td><td>1.62802</td></tr></table><br/></div></div>"
      ],
      "text/plain": [
       "<IPython.core.display.HTML object>"
      ]
     },
     "metadata": {},
     "output_type": "display_data"
    },
    {
     "data": {
      "text/html": [
       " View run <strong style=\"color:#cdcd00\">fancy-sweep-5</strong> at: <a href='https://wandb.ai/tiopirfur-uniwersytet-jagiello-ski-w-krakowie/mnist-classifier/runs/c03qeuya' target=\"_blank\">https://wandb.ai/tiopirfur-uniwersytet-jagiello-ski-w-krakowie/mnist-classifier/runs/c03qeuya</a><br/> View project at: <a href='https://wandb.ai/tiopirfur-uniwersytet-jagiello-ski-w-krakowie/mnist-classifier' target=\"_blank\">https://wandb.ai/tiopirfur-uniwersytet-jagiello-ski-w-krakowie/mnist-classifier</a><br/>Synced 5 W&B file(s), 0 media file(s), 0 artifact file(s) and 0 other file(s)"
      ],
      "text/plain": [
       "<IPython.core.display.HTML object>"
      ]
     },
     "metadata": {},
     "output_type": "display_data"
    },
    {
     "data": {
      "text/html": [
       "Find logs at: <code>.\\wandb\\run-20250206_231051-c03qeuya\\logs</code>"
      ],
      "text/plain": [
       "<IPython.core.display.HTML object>"
      ]
     },
     "metadata": {},
     "output_type": "display_data"
    },
    {
     "name": "stderr",
     "output_type": "stream",
     "text": [
      "wandb: Sweep Agent: Waiting for job.\n",
      "wandb: Job received.\n",
      "wandb: Agent Starting Run: qqthl0fg with config:\n",
      "wandb: \tbatch_size: 128\n",
      "wandb: \tlayer_1_size: 128\n",
      "wandb: \tlayer_2_size: 32\n",
      "wandb: \tlearning_rate: 0.01\n",
      "wandb: WARNING Ignored wandb.init() arg project when running a sweep.\n"
     ]
    },
    {
     "data": {
      "text/html": [
       "Tracking run with wandb version 0.18.7"
      ],
      "text/plain": [
       "<IPython.core.display.HTML object>"
      ]
     },
     "metadata": {},
     "output_type": "display_data"
    },
    {
     "data": {
      "text/html": [
       "Run data is saved locally in <code>C:\\Users\\admin\\Documents\\GitHub\\pum-24\\wandb\\run-20250206_231908-qqthl0fg</code>"
      ],
      "text/plain": [
       "<IPython.core.display.HTML object>"
      ]
     },
     "metadata": {},
     "output_type": "display_data"
    },
    {
     "data": {
      "text/html": [
       "Syncing run <strong><a href='https://wandb.ai/tiopirfur-uniwersytet-jagiello-ski-w-krakowie/mnist-classifier/runs/qqthl0fg' target=\"_blank\">autumn-sweep-6</a></strong> to <a href='https://wandb.ai/tiopirfur-uniwersytet-jagiello-ski-w-krakowie/mnist-classifier' target=\"_blank\">Weights & Biases</a> (<a href='https://wandb.me/developer-guide' target=\"_blank\">docs</a>)<br/>Sweep page: <a href='https://wandb.ai/tiopirfur-uniwersytet-jagiello-ski-w-krakowie/mnist-classifier/sweeps/5ywfdq6p' target=\"_blank\">https://wandb.ai/tiopirfur-uniwersytet-jagiello-ski-w-krakowie/mnist-classifier/sweeps/5ywfdq6p</a>"
      ],
      "text/plain": [
       "<IPython.core.display.HTML object>"
      ]
     },
     "metadata": {},
     "output_type": "display_data"
    },
    {
     "data": {
      "text/html": [
       " View project at <a href='https://wandb.ai/tiopirfur-uniwersytet-jagiello-ski-w-krakowie/mnist-classifier' target=\"_blank\">https://wandb.ai/tiopirfur-uniwersytet-jagiello-ski-w-krakowie/mnist-classifier</a>"
      ],
      "text/plain": [
       "<IPython.core.display.HTML object>"
      ]
     },
     "metadata": {},
     "output_type": "display_data"
    },
    {
     "data": {
      "text/html": [
       " View sweep at <a href='https://wandb.ai/tiopirfur-uniwersytet-jagiello-ski-w-krakowie/mnist-classifier/sweeps/5ywfdq6p' target=\"_blank\">https://wandb.ai/tiopirfur-uniwersytet-jagiello-ski-w-krakowie/mnist-classifier/sweeps/5ywfdq6p</a>"
      ],
      "text/plain": [
       "<IPython.core.display.HTML object>"
      ]
     },
     "metadata": {},
     "output_type": "display_data"
    },
    {
     "data": {
      "text/html": [
       " View run at <a href='https://wandb.ai/tiopirfur-uniwersytet-jagiello-ski-w-krakowie/mnist-classifier/runs/qqthl0fg' target=\"_blank\">https://wandb.ai/tiopirfur-uniwersytet-jagiello-ski-w-krakowie/mnist-classifier/runs/qqthl0fg</a>"
      ],
      "text/plain": [
       "<IPython.core.display.HTML object>"
      ]
     },
     "metadata": {},
     "output_type": "display_data"
    },
    {
     "name": "stdout",
     "output_type": "stream",
     "text": [
      "Epoch: 0\n",
      "Train loss: 1.669702765021497\n",
      "Validation loss: 1.5401806740821162\n",
      "\n",
      "Epoch: 1\n",
      "Train loss: 1.5309208649307935\n",
      "Validation loss: 1.5229265523862234\n",
      "\n",
      "Epoch: 2\n",
      "Train loss: 1.5256401381767126\n",
      "Validation loss: 1.5206569508661198\n",
      "\n",
      "Epoch: 3\n",
      "Train loss: 1.5228896992547172\n",
      "Validation loss: 1.5136084194424786\n",
      "\n",
      "Epoch: 4\n",
      "Train loss: 1.5246421088542004\n",
      "Validation loss: 1.527410327633725\n",
      "\n",
      "Epoch: 5\n",
      "Train loss: 1.5248722742869656\n",
      "Validation loss: 1.518516883065429\n",
      "\n",
      "Epoch: 6\n",
      "Train loss: 1.5245250806625463\n",
      "Validation loss: 1.5363504177407374\n",
      "\n",
      "Epoch: 7\n",
      "Train loss: 1.526471774969528\n",
      "Validation loss: 1.5214859896068331\n",
      "\n",
      "Epoch: 8\n",
      "Train loss: 1.5221059139349313\n",
      "Validation loss: 1.5102385207067561\n",
      "\n",
      "Epoch: 9\n",
      "Train loss: 1.5221500531442638\n",
      "Validation loss: 1.5259794962557056\n",
      "\n",
      "Epoch: 10\n",
      "Train loss: 1.5223477796705038\n",
      "Validation loss: 1.5148426052890247\n",
      "\n",
      "Epoch: 11\n",
      "Train loss: 1.5217735355596806\n",
      "Validation loss: 1.5201312575159194\n",
      "\n",
      "Epoch: 12\n",
      "Train loss: 1.5208727001889681\n",
      "Validation loss: 1.548976706553109\n",
      "\n",
      "Epoch: 13\n",
      "Train loss: 1.5244183934319502\n",
      "Validation loss: 1.5280888306943676\n",
      "\n",
      "Epoch: 14\n",
      "Train loss: 1.5253043500090968\n",
      "Validation loss: 1.5233373340172103\n",
      "\n",
      "Epoch: 15\n",
      "Train loss: 1.5263116984987564\n",
      "Validation loss: 1.5121303178087067\n",
      "\n",
      "Epoch: 16\n",
      "Train loss: 1.5241711927629482\n",
      "Validation loss: 1.5328544348101072\n",
      "\n",
      "Epoch: 17\n",
      "Train loss: 1.5264771874271221\n",
      "Validation loss: 1.5265214292308953\n",
      "\n",
      "Epoch: 18\n",
      "Train loss: 1.5225597820810672\n",
      "Validation loss: 1.5152558299559582\n",
      "\n",
      "Epoch: 19\n",
      "Train loss: 1.5221035805846583\n",
      "Validation loss: 1.535068084922018\n",
      "\n",
      "Epoch: 20\n",
      "Train loss: 1.5194119464105635\n",
      "Validation loss: 1.5162445020072068\n",
      "\n",
      "Epoch: 21\n",
      "Train loss: 1.5214742953335043\n",
      "Validation loss: 1.528791204283509\n",
      "\n",
      "Epoch: 22\n",
      "Train loss: 1.5292737898287743\n",
      "Validation loss: 1.542052170898341\n",
      "\n",
      "Epoch: 23\n",
      "Train loss: 1.5188151709814823\n",
      "Validation loss: 1.53639130954501\n",
      "\n",
      "Epoch: 24\n",
      "Train loss: 1.5199430446380746\n",
      "Validation loss: 1.51818031600759\n",
      "\n",
      "Epoch: 25\n",
      "Train loss: 1.5292996679033553\n",
      "Validation loss: 1.5310617398612107\n",
      "\n",
      "Epoch: 26\n",
      "Train loss: 1.5253923096890643\n",
      "Validation loss: 1.52416943749295\n",
      "\n",
      "Epoch: 27\n",
      "Train loss: 1.523859045398769\n",
      "Validation loss: 1.5133808277830292\n",
      "\n",
      "Epoch: 28\n",
      "Train loss: 1.518666238672952\n",
      "Validation loss: 1.5189896987963327\n",
      "\n",
      "Epoch: 29\n",
      "Train loss: 1.5261556695519225\n",
      "Validation loss: 1.5146330308310594\n",
      "\n",
      "Epoch: 30\n",
      "Train loss: 1.5182929732906285\n",
      "Validation loss: 1.520474755311314\n",
      "\n",
      "Epoch: 31\n",
      "Train loss: 1.5255659917778552\n",
      "Validation loss: 1.5249915620948695\n",
      "\n",
      "Epoch: 32\n",
      "Train loss: 1.5247555493291762\n",
      "Validation loss: 1.5347014454346668\n",
      "\n",
      "Epoch: 33\n",
      "Train loss: 1.558757594907716\n",
      "Validation loss: 1.5271922531007212\n",
      "\n",
      "Epoch: 34\n",
      "Train loss: 1.5286354774605238\n",
      "Validation loss: 1.5200996338566648\n",
      "\n",
      "Epoch: 35\n",
      "Train loss: 1.5247003584782453\n",
      "Validation loss: 1.531425039979476\n",
      "\n",
      "Epoch: 36\n",
      "Train loss: 1.5313194308962141\n",
      "Validation loss: 1.5179802873466588\n",
      "\n",
      "Epoch: 37\n",
      "Train loss: 1.5256938367510147\n",
      "Validation loss: 1.5340732336044312\n",
      "\n",
      "Epoch: 38\n",
      "Train loss: 1.5250437147835934\n",
      "Validation loss: 1.5259967816026905\n",
      "\n",
      "Epoch: 39\n",
      "Train loss: 1.5229022182635408\n",
      "Validation loss: 1.5290073005458977\n",
      "\n",
      "Epoch: 40\n",
      "Train loss: 1.5222962258467034\n",
      "Validation loss: 1.5254041409190697\n",
      "\n",
      "Epoch: 41\n",
      "Train loss: 1.5304588786066213\n",
      "Validation loss: 1.569125136242637\n",
      "\n",
      "Epoch: 42\n",
      "Train loss: 1.5273865336802468\n",
      "Validation loss: 1.5228343070307864\n",
      "\n",
      "Epoch: 43\n",
      "Train loss: 1.5282691396884065\n",
      "Validation loss: 1.52558236635184\n",
      "\n",
      "Epoch: 44\n",
      "Train loss: 1.5282757246672218\n",
      "Validation loss: 1.5304293300532088\n",
      "\n",
      "Epoch: 45\n",
      "Train loss: 1.5324795129202575\n",
      "Validation loss: 1.5324859347524522\n",
      "\n",
      "Epoch: 46\n",
      "Train loss: 1.5398680035239343\n",
      "Validation loss: 1.5391965712173075\n",
      "\n",
      "Epoch: 47\n",
      "Train loss: 1.526883868520448\n",
      "Validation loss: 1.5241585034358351\n",
      "\n",
      "Epoch: 48\n",
      "Train loss: 1.5152205086466093\n",
      "Validation loss: 1.521807074546814\n",
      "\n",
      "Epoch: 49\n",
      "Train loss: 1.5291996640183017\n",
      "Validation loss: 1.5278109327147278\n",
      "\n"
     ]
    },
    {
     "data": {
      "text/html": [
       "\n",
       "    <style>\n",
       "        .wandb-row {\n",
       "            display: flex;\n",
       "            flex-direction: row;\n",
       "            flex-wrap: wrap;\n",
       "            justify-content: flex-start;\n",
       "            width: 100%;\n",
       "        }\n",
       "        .wandb-col {\n",
       "            display: flex;\n",
       "            flex-direction: column;\n",
       "            flex-basis: 100%;\n",
       "            flex: 1;\n",
       "            padding: 10px;\n",
       "        }\n",
       "    </style>\n",
       "<div class=\"wandb-row\"><div class=\"wandb-col\"><h3>Run history:</h3><br/><table class=\"wandb\"><tr><td>train_loss</td><td>█▂▁▁▁▁▁▁▁▁▁▁▁▁▁▁▁▁▁▁▁▁▁▁▁▁▁▃▁▁▁▁▁▁▂▁▂▂▁▁</td></tr><tr><td>val_loss</td><td>▅▃▂▁▃▄▂▁▃▂▆▃▃▁▄▂▄▂▃▅▂▃▁▂▂▃▄▃▂▄▄▃▃▃█▃▃▄▃▃</td></tr></table><br/></div><div class=\"wandb-col\"><h3>Run summary:</h3><br/><table class=\"wandb\"><tr><td>train_loss</td><td>1.5292</td></tr><tr><td>val_loss</td><td>1.52781</td></tr></table><br/></div></div>"
      ],
      "text/plain": [
       "<IPython.core.display.HTML object>"
      ]
     },
     "metadata": {},
     "output_type": "display_data"
    },
    {
     "data": {
      "text/html": [
       " View run <strong style=\"color:#cdcd00\">autumn-sweep-6</strong> at: <a href='https://wandb.ai/tiopirfur-uniwersytet-jagiello-ski-w-krakowie/mnist-classifier/runs/qqthl0fg' target=\"_blank\">https://wandb.ai/tiopirfur-uniwersytet-jagiello-ski-w-krakowie/mnist-classifier/runs/qqthl0fg</a><br/> View project at: <a href='https://wandb.ai/tiopirfur-uniwersytet-jagiello-ski-w-krakowie/mnist-classifier' target=\"_blank\">https://wandb.ai/tiopirfur-uniwersytet-jagiello-ski-w-krakowie/mnist-classifier</a><br/>Synced 5 W&B file(s), 0 media file(s), 0 artifact file(s) and 0 other file(s)"
      ],
      "text/plain": [
       "<IPython.core.display.HTML object>"
      ]
     },
     "metadata": {},
     "output_type": "display_data"
    },
    {
     "data": {
      "text/html": [
       "Find logs at: <code>.\\wandb\\run-20250206_231908-qqthl0fg\\logs</code>"
      ],
      "text/plain": [
       "<IPython.core.display.HTML object>"
      ]
     },
     "metadata": {},
     "output_type": "display_data"
    },
    {
     "name": "stderr",
     "output_type": "stream",
     "text": [
      "wandb: Agent Starting Run: 2mbk90de with config:\n",
      "wandb: \tbatch_size: 128\n",
      "wandb: \tlayer_1_size: 256\n",
      "wandb: \tlayer_2_size: 128\n",
      "wandb: \tlearning_rate: 0.0001\n",
      "wandb: WARNING Ignored wandb.init() arg project when running a sweep.\n"
     ]
    },
    {
     "data": {
      "text/html": [
       "Tracking run with wandb version 0.18.7"
      ],
      "text/plain": [
       "<IPython.core.display.HTML object>"
      ]
     },
     "metadata": {},
     "output_type": "display_data"
    },
    {
     "data": {
      "text/html": [
       "Run data is saved locally in <code>C:\\Users\\admin\\Documents\\GitHub\\pum-24\\wandb\\run-20250206_232544-2mbk90de</code>"
      ],
      "text/plain": [
       "<IPython.core.display.HTML object>"
      ]
     },
     "metadata": {},
     "output_type": "display_data"
    },
    {
     "data": {
      "text/html": [
       "Syncing run <strong><a href='https://wandb.ai/tiopirfur-uniwersytet-jagiello-ski-w-krakowie/mnist-classifier/runs/2mbk90de' target=\"_blank\">peachy-sweep-7</a></strong> to <a href='https://wandb.ai/tiopirfur-uniwersytet-jagiello-ski-w-krakowie/mnist-classifier' target=\"_blank\">Weights & Biases</a> (<a href='https://wandb.me/developer-guide' target=\"_blank\">docs</a>)<br/>Sweep page: <a href='https://wandb.ai/tiopirfur-uniwersytet-jagiello-ski-w-krakowie/mnist-classifier/sweeps/5ywfdq6p' target=\"_blank\">https://wandb.ai/tiopirfur-uniwersytet-jagiello-ski-w-krakowie/mnist-classifier/sweeps/5ywfdq6p</a>"
      ],
      "text/plain": [
       "<IPython.core.display.HTML object>"
      ]
     },
     "metadata": {},
     "output_type": "display_data"
    },
    {
     "data": {
      "text/html": [
       " View project at <a href='https://wandb.ai/tiopirfur-uniwersytet-jagiello-ski-w-krakowie/mnist-classifier' target=\"_blank\">https://wandb.ai/tiopirfur-uniwersytet-jagiello-ski-w-krakowie/mnist-classifier</a>"
      ],
      "text/plain": [
       "<IPython.core.display.HTML object>"
      ]
     },
     "metadata": {},
     "output_type": "display_data"
    },
    {
     "data": {
      "text/html": [
       " View sweep at <a href='https://wandb.ai/tiopirfur-uniwersytet-jagiello-ski-w-krakowie/mnist-classifier/sweeps/5ywfdq6p' target=\"_blank\">https://wandb.ai/tiopirfur-uniwersytet-jagiello-ski-w-krakowie/mnist-classifier/sweeps/5ywfdq6p</a>"
      ],
      "text/plain": [
       "<IPython.core.display.HTML object>"
      ]
     },
     "metadata": {},
     "output_type": "display_data"
    },
    {
     "data": {
      "text/html": [
       " View run at <a href='https://wandb.ai/tiopirfur-uniwersytet-jagiello-ski-w-krakowie/mnist-classifier/runs/2mbk90de' target=\"_blank\">https://wandb.ai/tiopirfur-uniwersytet-jagiello-ski-w-krakowie/mnist-classifier/runs/2mbk90de</a>"
      ],
      "text/plain": [
       "<IPython.core.display.HTML object>"
      ]
     },
     "metadata": {},
     "output_type": "display_data"
    },
    {
     "name": "stdout",
     "output_type": "stream",
     "text": [
      "Epoch: 0\n",
      "Train loss: 1.8686164973387078\n",
      "Validation loss: 1.616761945470979\n",
      "\n",
      "Epoch: 1\n",
      "Train loss: 1.591309973934312\n",
      "Validation loss: 1.5664118347288687\n",
      "\n",
      "Epoch: 2\n",
      "Train loss: 1.5637427601478755\n",
      "Validation loss: 1.5530591674997836\n",
      "\n",
      "Epoch: 3\n",
      "Train loss: 1.551971645497564\n",
      "Validation loss: 1.5451868033107323\n",
      "\n",
      "Epoch: 4\n",
      "Train loss: 1.5443857984502178\n",
      "Validation loss: 1.5399373030360741\n",
      "\n",
      "Epoch: 5\n",
      "Train loss: 1.538798347973366\n",
      "Validation loss: 1.5346131400216985\n",
      "\n",
      "Epoch: 6\n",
      "Train loss: 1.5339459132538167\n",
      "Validation loss: 1.5312444333788715\n",
      "\n",
      "Epoch: 7\n",
      "Train loss: 1.5300510694731528\n",
      "Validation loss: 1.5290276536458656\n",
      "\n",
      "Epoch: 8\n",
      "Train loss: 1.526669324333988\n",
      "Validation loss: 1.5265467242349553\n",
      "\n",
      "Epoch: 9\n",
      "Train loss: 1.5233966145179927\n",
      "Validation loss: 1.523011720633205\n",
      "\n",
      "Epoch: 10\n",
      "Train loss: 1.5203526703787764\n",
      "Validation loss: 1.5203003023244157\n",
      "\n",
      "Epoch: 11\n",
      "Train loss: 1.5173939130962022\n",
      "Validation loss: 1.51914266845848\n",
      "\n",
      "Epoch: 12\n",
      "Train loss: 1.514744457659691\n",
      "Validation loss: 1.5171781551988819\n",
      "\n",
      "Epoch: 13\n",
      "Train loss: 1.5125258398462715\n",
      "Validation loss: 1.5152659733084184\n",
      "\n",
      "Epoch: 14\n",
      "Train loss: 1.5103767030020512\n",
      "Validation loss: 1.5131330218496202\n",
      "\n",
      "Epoch: 15\n",
      "Train loss: 1.5086310100453748\n",
      "Validation loss: 1.5122380135934563\n",
      "\n",
      "Epoch: 16\n",
      "Train loss: 1.5067095133795667\n",
      "Validation loss: 1.5099655087990096\n",
      "\n",
      "Epoch: 17\n",
      "Train loss: 1.5049714828605083\n",
      "Validation loss: 1.5091345114043997\n",
      "\n",
      "Epoch: 18\n",
      "Train loss: 1.5034972838501433\n",
      "Validation loss: 1.5077233389963078\n",
      "\n",
      "Epoch: 19\n",
      "Train loss: 1.5021064477180368\n",
      "Validation loss: 1.5064795651013339\n",
      "\n",
      "Epoch: 20\n",
      "Train loss: 1.5005528637086913\n",
      "Validation loss: 1.5057199423826193\n",
      "\n",
      "Epoch: 21\n",
      "Train loss: 1.4993334589228193\n",
      "Validation loss: 1.5042730403851858\n",
      "\n",
      "Epoch: 22\n",
      "Train loss: 1.498084000687101\n",
      "Validation loss: 1.5042104358914532\n",
      "\n",
      "Epoch: 23\n",
      "Train loss: 1.4969108214002174\n",
      "Validation loss: 1.5023990220661405\n",
      "\n",
      "Epoch: 24\n",
      "Train loss: 1.495827442293228\n",
      "Validation loss: 1.5011876927146428\n",
      "\n",
      "Epoch: 25\n",
      "Train loss: 1.4945704576049024\n",
      "Validation loss: 1.5008423403848576\n",
      "\n",
      "Epoch: 26\n",
      "Train loss: 1.4934422547883317\n",
      "Validation loss: 1.4994946144804169\n",
      "\n",
      "Epoch: 27\n",
      "Train loss: 1.492240820103871\n",
      "Validation loss: 1.49853303613542\n",
      "\n",
      "Epoch: 28\n",
      "Train loss: 1.491087896483285\n",
      "Validation loss: 1.4986626015433782\n",
      "\n",
      "Epoch: 29\n",
      "Train loss: 1.4901420686290716\n",
      "Validation loss: 1.4971820085863523\n",
      "\n",
      "Epoch: 30\n",
      "Train loss: 1.489270946872768\n",
      "Validation loss: 1.4970459847510615\n",
      "\n",
      "Epoch: 31\n",
      "Train loss: 1.4882709230187097\n",
      "Validation loss: 1.4967770516117918\n",
      "\n",
      "Epoch: 32\n",
      "Train loss: 1.4874458193524813\n",
      "Validation loss: 1.496407440946072\n",
      "\n",
      "Epoch: 33\n",
      "Train loss: 1.4867157191355853\n",
      "Validation loss: 1.4949189665951306\n",
      "\n",
      "Epoch: 34\n",
      "Train loss: 1.485899163715875\n",
      "Validation loss: 1.494707954080799\n",
      "\n",
      "Epoch: 35\n",
      "Train loss: 1.4851118994674195\n",
      "Validation loss: 1.4944165613077864\n",
      "\n",
      "Epoch: 36\n",
      "Train loss: 1.484486870165827\n",
      "Validation loss: 1.494195209273809\n",
      "\n",
      "Epoch: 37\n",
      "Train loss: 1.4837108863188004\n",
      "Validation loss: 1.4941104725946355\n",
      "\n",
      "Epoch: 38\n",
      "Train loss: 1.4831332697797177\n",
      "Validation loss: 1.492816837528084\n",
      "\n",
      "Epoch: 39\n",
      "Train loss: 1.4825902557068034\n",
      "Validation loss: 1.4925483465194702\n",
      "\n",
      "Epoch: 40\n",
      "Train loss: 1.4819989918645766\n",
      "Validation loss: 1.491825123376484\n",
      "\n",
      "Epoch: 41\n",
      "Train loss: 1.481482177400894\n",
      "Validation loss: 1.4919827919972093\n",
      "\n",
      "Epoch: 42\n",
      "Train loss: 1.4810042826097403\n",
      "Validation loss: 1.491455722458755\n",
      "\n",
      "Epoch: 43\n",
      "Train loss: 1.480368915397221\n",
      "Validation loss: 1.4914635736731034\n",
      "\n",
      "Epoch: 44\n",
      "Train loss: 1.479966477036222\n",
      "Validation loss: 1.490417960323865\n",
      "\n",
      "Epoch: 45\n",
      "Train loss: 1.4794770860468656\n",
      "Validation loss: 1.4903743553765212\n",
      "\n",
      "Epoch: 46\n",
      "Train loss: 1.4790418135331893\n",
      "Validation loss: 1.490555366383323\n",
      "\n",
      "Epoch: 47\n",
      "Train loss: 1.4787983284321928\n",
      "Validation loss: 1.4904974985726271\n",
      "\n",
      "Epoch: 48\n",
      "Train loss: 1.478304102476726\n",
      "Validation loss: 1.4899901151657104\n",
      "\n",
      "Epoch: 49\n",
      "Train loss: 1.477886321956415\n",
      "Validation loss: 1.4893991388852084\n",
      "\n"
     ]
    },
    {
     "data": {
      "text/html": [
       "\n",
       "    <style>\n",
       "        .wandb-row {\n",
       "            display: flex;\n",
       "            flex-direction: row;\n",
       "            flex-wrap: wrap;\n",
       "            justify-content: flex-start;\n",
       "            width: 100%;\n",
       "        }\n",
       "        .wandb-col {\n",
       "            display: flex;\n",
       "            flex-direction: column;\n",
       "            flex-basis: 100%;\n",
       "            flex: 1;\n",
       "            padding: 10px;\n",
       "        }\n",
       "    </style>\n",
       "<div class=\"wandb-row\"><div class=\"wandb-col\"><h3>Run history:</h3><br/><table class=\"wandb\"><tr><td>train_loss</td><td>█▃▃▂▂▂▂▂▂▂▂▂▂▂▂▁▁▁▁▁▁▁▁▁▁▁▁▁▁▁▁▁▁▁▁▁▁▁▁▁</td></tr><tr><td>val_loss</td><td>█▅▄▄▄▃▃▃▃▃▂▂▂▂▂▂▂▂▂▂▂▂▂▁▁▁▁▁▁▁▁▁▁▁▁▁▁▁▁▁</td></tr></table><br/></div><div class=\"wandb-col\"><h3>Run summary:</h3><br/><table class=\"wandb\"><tr><td>train_loss</td><td>1.47789</td></tr><tr><td>val_loss</td><td>1.4894</td></tr></table><br/></div></div>"
      ],
      "text/plain": [
       "<IPython.core.display.HTML object>"
      ]
     },
     "metadata": {},
     "output_type": "display_data"
    },
    {
     "data": {
      "text/html": [
       " View run <strong style=\"color:#cdcd00\">peachy-sweep-7</strong> at: <a href='https://wandb.ai/tiopirfur-uniwersytet-jagiello-ski-w-krakowie/mnist-classifier/runs/2mbk90de' target=\"_blank\">https://wandb.ai/tiopirfur-uniwersytet-jagiello-ski-w-krakowie/mnist-classifier/runs/2mbk90de</a><br/> View project at: <a href='https://wandb.ai/tiopirfur-uniwersytet-jagiello-ski-w-krakowie/mnist-classifier' target=\"_blank\">https://wandb.ai/tiopirfur-uniwersytet-jagiello-ski-w-krakowie/mnist-classifier</a><br/>Synced 5 W&B file(s), 0 media file(s), 0 artifact file(s) and 0 other file(s)"
      ],
      "text/plain": [
       "<IPython.core.display.HTML object>"
      ]
     },
     "metadata": {},
     "output_type": "display_data"
    },
    {
     "data": {
      "text/html": [
       "Find logs at: <code>.\\wandb\\run-20250206_232544-2mbk90de\\logs</code>"
      ],
      "text/plain": [
       "<IPython.core.display.HTML object>"
      ]
     },
     "metadata": {},
     "output_type": "display_data"
    },
    {
     "name": "stderr",
     "output_type": "stream",
     "text": [
      "wandb: Ctrl + C detected. Stopping sweep.\n"
     ]
    }
   ],
   "source": [
    "parameters = {\n",
    "    'learning_rate': {'values': [0.01, 0.001, 0.0001]},\n",
    "    'batch_size': {'values': [32, 64, 128]},\n",
    "    'layer_1_size': {'values': [64, 128, 256]},\n",
    "    'layer_2_size': {'values': [32, 64, 128]}\n",
    "}\n",
    "\n",
    "sweep_config = {\n",
    "    'name': 'mnist-sweep',\n",
    "    'method': 'bayes',\n",
    "    'metric': {'goal': 'maximize', 'name': 'accuracy'}, # if we want to maximize the accuracy\n",
    "    # remember to log the metric that you want to maximize or minimize!\n",
    "    'parameters': parameters,\n",
    "}\n",
    "\n",
    "wandb.login(key='876dfec77c2e4a68b24ec9499a55665f94652f25')\n",
    "sweep_id = wandb.sweep(sweep_config, project='mnist-classifier')    # This will create a new sweep\n",
    "wandb.agent(sweep_id, function=train)   # This will start the hyperparameter tuning process"
   ]
  },
  {
   "cell_type": "code",
   "execution_count": null,
   "id": "2b99d5bd-522f-40b1-a504-35aec5f2181d",
   "metadata": {},
   "outputs": [],
   "source": []
  }
 ],
 "metadata": {
  "kernelspec": {
   "display_name": "Python 3 (ipykernel)",
   "language": "python",
   "name": "python3"
  },
  "language_info": {
   "codemirror_mode": {
    "name": "ipython",
    "version": 3
   },
   "file_extension": ".py",
   "mimetype": "text/x-python",
   "name": "python",
   "nbconvert_exporter": "python",
   "pygments_lexer": "ipython3",
   "version": "3.9.20"
  }
 },
 "nbformat": 4,
 "nbformat_minor": 5
}
